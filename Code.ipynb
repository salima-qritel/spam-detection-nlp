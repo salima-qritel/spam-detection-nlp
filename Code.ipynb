{
 "cells": [
  {
   "cell_type": "markdown",
   "id": "1666fb16-c97e-42d8-aa12-0ce80467e559",
   "metadata": {},
   "source": [
    "# **Importer les bibliothèques**"
   ]
  },
  {
   "cell_type": "code",
   "execution_count": 49,
   "id": "db39190f-044e-4099-b3d9-f922590232ee",
   "metadata": {},
   "outputs": [],
   "source": [
    "import os\n",
    "import random\n",
    "import numpy as np\n",
    "import pandas as pd\n",
    "import matplotlib.pyplot as plt\n",
    "import seaborn as sns\n",
    "import re\n",
    "import nltk\n",
    "from nltk.corpus import stopwords\n",
    "from nltk.tokenize import word_tokenize\n",
    "from nltk.stem import WordNetLemmatizer\n",
    "from sklearn.preprocessing import LabelEncoder\n",
    "from sklearn.model_selection import train_test_split\n",
    "from sklearn.utils.class_weight import compute_class_weight\n",
    "from sklearn.metrics import confusion_matrix, classification_report\n",
    "\n",
    "import tensorflow as tf\n",
    "\n",
    "# Fixer la graine pour la reproductibilité\n",
    "seed_value = 42\n",
    "os.environ['PYTHONHASHSEED'] = str(seed_value)\n",
    "random.seed(seed_value)\n",
    "np.random.seed(seed_value)\n",
    "tf.random.set_seed(seed_value)\n",
    "\n",
    "from tensorflow.keras.models import Sequential, Model\n",
    "from tensorflow.keras.layers import Embedding, LSTM, SimpleRNN, Dense, Dropout, Attention, Input,Flatten\n",
    "from tensorflow.keras.preprocessing.text import Tokenizer\n",
    "from tensorflow.keras.preprocessing.sequence import pad_sequences\n",
    "from tensorflow.keras.metrics import Precision, Recall\n",
    "from tensorflow.keras.optimizers import Adam\n",
    "from tensorflow.keras.callbacks import EarlyStopping, ModelCheckpoint\n",
    "from tensorflow.keras.utils import to_categorical\n",
    "#Transformers\n",
    "import torch\n",
    "from transformers import BertTokenizer, BertForSequenceClassification\n",
    "from transformers import Trainer, TrainingArguments\n",
    "from datasets import Dataset, DatasetDict\n",
    "\n"
   ]
  },
  {
   "cell_type": "markdown",
   "id": "ba5b9baa-0f44-4ea3-a230-38202a84a05d",
   "metadata": {},
   "source": [
    "### "
   ]
  },
  {
   "cell_type": "markdown",
   "id": "486c9093-5d31-4045-ab0c-b46d8bb4d9a2",
   "metadata": {},
   "source": [
    "# **Charger et inspecter le jeu de données**"
   ]
  },
  {
   "cell_type": "code",
   "execution_count": 4,
   "id": "2351faaa-4e73-42e1-8fb4-7b893046f6f3",
   "metadata": {},
   "outputs": [],
   "source": [
    "# Charger le dataset\n",
    "df = pd.read_csv(\"spam.csv\", encoding=\"latin-1\")"
   ]
  },
  {
   "cell_type": "code",
   "execution_count": 5,
   "id": "a13e5ea7-70a2-44bf-83f9-7845b576b515",
   "metadata": {},
   "outputs": [
    {
     "data": {
      "text/html": [
       "<div>\n",
       "<style scoped>\n",
       "    .dataframe tbody tr th:only-of-type {\n",
       "        vertical-align: middle;\n",
       "    }\n",
       "\n",
       "    .dataframe tbody tr th {\n",
       "        vertical-align: top;\n",
       "    }\n",
       "\n",
       "    .dataframe thead th {\n",
       "        text-align: right;\n",
       "    }\n",
       "</style>\n",
       "<table border=\"1\" class=\"dataframe\">\n",
       "  <thead>\n",
       "    <tr style=\"text-align: right;\">\n",
       "      <th></th>\n",
       "      <th>v1</th>\n",
       "      <th>v2</th>\n",
       "      <th>Unnamed: 2</th>\n",
       "      <th>Unnamed: 3</th>\n",
       "      <th>Unnamed: 4</th>\n",
       "    </tr>\n",
       "  </thead>\n",
       "  <tbody>\n",
       "    <tr>\n",
       "      <th>0</th>\n",
       "      <td>ham</td>\n",
       "      <td>Go until jurong point, crazy.. Available only ...</td>\n",
       "      <td>NaN</td>\n",
       "      <td>NaN</td>\n",
       "      <td>NaN</td>\n",
       "    </tr>\n",
       "    <tr>\n",
       "      <th>1</th>\n",
       "      <td>ham</td>\n",
       "      <td>Ok lar... Joking wif u oni...</td>\n",
       "      <td>NaN</td>\n",
       "      <td>NaN</td>\n",
       "      <td>NaN</td>\n",
       "    </tr>\n",
       "    <tr>\n",
       "      <th>2</th>\n",
       "      <td>spam</td>\n",
       "      <td>Free entry in 2 a wkly comp to win FA Cup fina...</td>\n",
       "      <td>NaN</td>\n",
       "      <td>NaN</td>\n",
       "      <td>NaN</td>\n",
       "    </tr>\n",
       "    <tr>\n",
       "      <th>3</th>\n",
       "      <td>ham</td>\n",
       "      <td>U dun say so early hor... U c already then say...</td>\n",
       "      <td>NaN</td>\n",
       "      <td>NaN</td>\n",
       "      <td>NaN</td>\n",
       "    </tr>\n",
       "    <tr>\n",
       "      <th>4</th>\n",
       "      <td>ham</td>\n",
       "      <td>Nah I don't think he goes to usf, he lives aro...</td>\n",
       "      <td>NaN</td>\n",
       "      <td>NaN</td>\n",
       "      <td>NaN</td>\n",
       "    </tr>\n",
       "  </tbody>\n",
       "</table>\n",
       "</div>"
      ],
      "text/plain": [
       "     v1                                                 v2 Unnamed: 2  \\\n",
       "0   ham  Go until jurong point, crazy.. Available only ...        NaN   \n",
       "1   ham                      Ok lar... Joking wif u oni...        NaN   \n",
       "2  spam  Free entry in 2 a wkly comp to win FA Cup fina...        NaN   \n",
       "3   ham  U dun say so early hor... U c already then say...        NaN   \n",
       "4   ham  Nah I don't think he goes to usf, he lives aro...        NaN   \n",
       "\n",
       "  Unnamed: 3 Unnamed: 4  \n",
       "0        NaN        NaN  \n",
       "1        NaN        NaN  \n",
       "2        NaN        NaN  \n",
       "3        NaN        NaN  \n",
       "4        NaN        NaN  "
      ]
     },
     "execution_count": 5,
     "metadata": {},
     "output_type": "execute_result"
    }
   ],
   "source": [
    "# Afficher les premières lignes\n",
    "df.head()"
   ]
  },
  {
   "cell_type": "code",
   "execution_count": 6,
   "id": "b58afc22-36f1-46df-9f57-32cd68f5d9b1",
   "metadata": {},
   "outputs": [
    {
     "data": {
      "text/html": [
       "<div>\n",
       "<style scoped>\n",
       "    .dataframe tbody tr th:only-of-type {\n",
       "        vertical-align: middle;\n",
       "    }\n",
       "\n",
       "    .dataframe tbody tr th {\n",
       "        vertical-align: top;\n",
       "    }\n",
       "\n",
       "    .dataframe thead th {\n",
       "        text-align: right;\n",
       "    }\n",
       "</style>\n",
       "<table border=\"1\" class=\"dataframe\">\n",
       "  <thead>\n",
       "    <tr style=\"text-align: right;\">\n",
       "      <th></th>\n",
       "      <th>v1</th>\n",
       "      <th>v2</th>\n",
       "      <th>Unnamed: 2</th>\n",
       "      <th>Unnamed: 3</th>\n",
       "      <th>Unnamed: 4</th>\n",
       "    </tr>\n",
       "  </thead>\n",
       "  <tbody>\n",
       "    <tr>\n",
       "      <th>5567</th>\n",
       "      <td>spam</td>\n",
       "      <td>This is the 2nd time we have tried 2 contact u...</td>\n",
       "      <td>NaN</td>\n",
       "      <td>NaN</td>\n",
       "      <td>NaN</td>\n",
       "    </tr>\n",
       "    <tr>\n",
       "      <th>5568</th>\n",
       "      <td>ham</td>\n",
       "      <td>Will Ì_ b going to esplanade fr home?</td>\n",
       "      <td>NaN</td>\n",
       "      <td>NaN</td>\n",
       "      <td>NaN</td>\n",
       "    </tr>\n",
       "    <tr>\n",
       "      <th>5569</th>\n",
       "      <td>ham</td>\n",
       "      <td>Pity, * was in mood for that. So...any other s...</td>\n",
       "      <td>NaN</td>\n",
       "      <td>NaN</td>\n",
       "      <td>NaN</td>\n",
       "    </tr>\n",
       "    <tr>\n",
       "      <th>5570</th>\n",
       "      <td>ham</td>\n",
       "      <td>The guy did some bitching but I acted like i'd...</td>\n",
       "      <td>NaN</td>\n",
       "      <td>NaN</td>\n",
       "      <td>NaN</td>\n",
       "    </tr>\n",
       "    <tr>\n",
       "      <th>5571</th>\n",
       "      <td>ham</td>\n",
       "      <td>Rofl. Its true to its name</td>\n",
       "      <td>NaN</td>\n",
       "      <td>NaN</td>\n",
       "      <td>NaN</td>\n",
       "    </tr>\n",
       "  </tbody>\n",
       "</table>\n",
       "</div>"
      ],
      "text/plain": [
       "        v1                                                 v2 Unnamed: 2  \\\n",
       "5567  spam  This is the 2nd time we have tried 2 contact u...        NaN   \n",
       "5568   ham              Will Ì_ b going to esplanade fr home?        NaN   \n",
       "5569   ham  Pity, * was in mood for that. So...any other s...        NaN   \n",
       "5570   ham  The guy did some bitching but I acted like i'd...        NaN   \n",
       "5571   ham                         Rofl. Its true to its name        NaN   \n",
       "\n",
       "     Unnamed: 3 Unnamed: 4  \n",
       "5567        NaN        NaN  \n",
       "5568        NaN        NaN  \n",
       "5569        NaN        NaN  \n",
       "5570        NaN        NaN  \n",
       "5571        NaN        NaN  "
      ]
     },
     "execution_count": 6,
     "metadata": {},
     "output_type": "execute_result"
    }
   ],
   "source": [
    "# Aperçu des dernieres lignes du dataset\n",
    "df.tail()"
   ]
  },
  {
   "cell_type": "code",
   "execution_count": 7,
   "id": "d3c9b012-1d15-4b9e-bedd-f09503e80c6c",
   "metadata": {},
   "outputs": [
    {
     "data": {
      "text/html": [
       "<div>\n",
       "<style scoped>\n",
       "    .dataframe tbody tr th:only-of-type {\n",
       "        vertical-align: middle;\n",
       "    }\n",
       "\n",
       "    .dataframe tbody tr th {\n",
       "        vertical-align: top;\n",
       "    }\n",
       "\n",
       "    .dataframe thead th {\n",
       "        text-align: right;\n",
       "    }\n",
       "</style>\n",
       "<table border=\"1\" class=\"dataframe\">\n",
       "  <thead>\n",
       "    <tr style=\"text-align: right;\">\n",
       "      <th></th>\n",
       "      <th>label</th>\n",
       "      <th>message</th>\n",
       "    </tr>\n",
       "  </thead>\n",
       "  <tbody>\n",
       "    <tr>\n",
       "      <th>0</th>\n",
       "      <td>ham</td>\n",
       "      <td>Go until jurong point, crazy.. Available only ...</td>\n",
       "    </tr>\n",
       "    <tr>\n",
       "      <th>1</th>\n",
       "      <td>ham</td>\n",
       "      <td>Ok lar... Joking wif u oni...</td>\n",
       "    </tr>\n",
       "    <tr>\n",
       "      <th>2</th>\n",
       "      <td>spam</td>\n",
       "      <td>Free entry in 2 a wkly comp to win FA Cup fina...</td>\n",
       "    </tr>\n",
       "    <tr>\n",
       "      <th>3</th>\n",
       "      <td>ham</td>\n",
       "      <td>U dun say so early hor... U c already then say...</td>\n",
       "    </tr>\n",
       "    <tr>\n",
       "      <th>4</th>\n",
       "      <td>ham</td>\n",
       "      <td>Nah I don't think he goes to usf, he lives aro...</td>\n",
       "    </tr>\n",
       "  </tbody>\n",
       "</table>\n",
       "</div>"
      ],
      "text/plain": [
       "  label                                            message\n",
       "0   ham  Go until jurong point, crazy.. Available only ...\n",
       "1   ham                      Ok lar... Joking wif u oni...\n",
       "2  spam  Free entry in 2 a wkly comp to win FA Cup fina...\n",
       "3   ham  U dun say so early hor... U c already then say...\n",
       "4   ham  Nah I don't think he goes to usf, he lives aro..."
      ]
     },
     "execution_count": 7,
     "metadata": {},
     "output_type": "execute_result"
    }
   ],
   "source": [
    "# Garder uniquement les colonnes utiles\n",
    "df = df[['v1', 'v2']]\n",
    "df.columns = ['label', 'message']\n",
    "df.head()"
   ]
  },
  {
   "cell_type": "code",
   "execution_count": 8,
   "id": "f2566490-db6b-4368-845c-6215e09a508c",
   "metadata": {},
   "outputs": [
    {
     "name": "stdout",
     "output_type": "stream",
     "text": [
      "Shape of dataset: (5572, 2)\n"
     ]
    }
   ],
   "source": [
    "#Verification de la dimension du dataset\n",
    "print(\"Shape of dataset:\", df.shape)"
   ]
  },
  {
   "cell_type": "markdown",
   "id": "07e98191-e52c-4ca4-902b-987741fe61ff",
   "metadata": {},
   "source": [
    "# **Prétraitement des données**"
   ]
  },
  {
   "cell_type": "markdown",
   "id": "fb833060-26b1-470e-b62b-d454c1b6910d",
   "metadata": {},
   "source": [
    "#### **Vérification des valeurs manquantes**"
   ]
  },
  {
   "cell_type": "code",
   "execution_count": 11,
   "id": "4205916b-fb23-429b-ac36-dc45f4e08dd4",
   "metadata": {},
   "outputs": [
    {
     "data": {
      "text/plain": [
       "label      0\n",
       "message    0\n",
       "dtype: int64"
      ]
     },
     "execution_count": 11,
     "metadata": {},
     "output_type": "execute_result"
    }
   ],
   "source": [
    "df.isna().sum()"
   ]
  },
  {
   "cell_type": "markdown",
   "id": "7ba899dd-00f6-45af-b912-f75cfb7afa9b",
   "metadata": {},
   "source": [
    "Il n'y a aucune valeur manquante"
   ]
  },
  {
   "cell_type": "markdown",
   "id": "e8fb4e82-ac14-4fd1-adbb-bbd9c21a5f41",
   "metadata": {},
   "source": [
    "#### **Vérification  et supression des doublons**"
   ]
  },
  {
   "cell_type": "code",
   "execution_count": 14,
   "id": "80eb93c7-cc4d-441d-8689-441c81cfd2ba",
   "metadata": {},
   "outputs": [
    {
     "data": {
      "text/plain": [
       "403"
      ]
     },
     "execution_count": 14,
     "metadata": {},
     "output_type": "execute_result"
    }
   ],
   "source": [
    "df.duplicated().sum()"
   ]
  },
  {
   "cell_type": "code",
   "execution_count": 15,
   "id": "06d2efda-70ee-4d09-8238-582f79be816e",
   "metadata": {},
   "outputs": [],
   "source": [
    "#Supression des doublons\n",
    "df = df.drop_duplicates()"
   ]
  },
  {
   "cell_type": "markdown",
   "id": "7e98484e-652f-4d8f-96c9-bf29b3a0ad88",
   "metadata": {},
   "source": [
    "#### **Netoyage du text**"
   ]
  },
  {
   "cell_type": "code",
   "execution_count": 17,
   "id": "3d231a76-5fa4-452c-beab-daa0dccadd55",
   "metadata": {},
   "outputs": [
    {
     "name": "stderr",
     "output_type": "stream",
     "text": [
      "[nltk_data] Downloading package stopwords to\n",
      "[nltk_data]     C:\\Users\\LENOVO\\AppData\\Roaming\\nltk_data...\n",
      "[nltk_data]   Unzipping corpora\\stopwords.zip.\n",
      "[nltk_data] Downloading package punkt to\n",
      "[nltk_data]     C:\\Users\\LENOVO\\AppData\\Roaming\\nltk_data...\n",
      "[nltk_data]   Package punkt is already up-to-date!\n",
      "[nltk_data] Downloading package wordnet to\n",
      "[nltk_data]     C:\\Users\\LENOVO\\AppData\\Roaming\\nltk_data...\n",
      "[nltk_data]   Package wordnet is already up-to-date!\n"
     ]
    },
    {
     "data": {
      "text/plain": [
       "True"
      ]
     },
     "execution_count": 17,
     "metadata": {},
     "output_type": "execute_result"
    }
   ],
   "source": [
    "nltk.download('stopwords')\n",
    "nltk.download('punkt')\n",
    "nltk.download('wordnet')"
   ]
  },
  {
   "cell_type": "code",
   "execution_count": 18,
   "id": "8a4e390d-3ed5-4ced-ad1d-6d6438a9ee0c",
   "metadata": {},
   "outputs": [
    {
     "data": {
      "text/html": [
       "<div>\n",
       "<style scoped>\n",
       "    .dataframe tbody tr th:only-of-type {\n",
       "        vertical-align: middle;\n",
       "    }\n",
       "\n",
       "    .dataframe tbody tr th {\n",
       "        vertical-align: top;\n",
       "    }\n",
       "\n",
       "    .dataframe thead th {\n",
       "        text-align: right;\n",
       "    }\n",
       "</style>\n",
       "<table border=\"1\" class=\"dataframe\">\n",
       "  <thead>\n",
       "    <tr style=\"text-align: right;\">\n",
       "      <th></th>\n",
       "      <th>label</th>\n",
       "      <th>message</th>\n",
       "      <th>clean_text</th>\n",
       "    </tr>\n",
       "  </thead>\n",
       "  <tbody>\n",
       "    <tr>\n",
       "      <th>0</th>\n",
       "      <td>ham</td>\n",
       "      <td>Go until jurong point, crazy.. Available only ...</td>\n",
       "      <td>go jurong point crazy available bugis n great ...</td>\n",
       "    </tr>\n",
       "    <tr>\n",
       "      <th>1</th>\n",
       "      <td>ham</td>\n",
       "      <td>Ok lar... Joking wif u oni...</td>\n",
       "      <td>ok lar joking wif u oni</td>\n",
       "    </tr>\n",
       "    <tr>\n",
       "      <th>2</th>\n",
       "      <td>spam</td>\n",
       "      <td>Free entry in 2 a wkly comp to win FA Cup fina...</td>\n",
       "      <td>free entry 2 wkly comp win fa cup final tkts 2...</td>\n",
       "    </tr>\n",
       "    <tr>\n",
       "      <th>3</th>\n",
       "      <td>ham</td>\n",
       "      <td>U dun say so early hor... U c already then say...</td>\n",
       "      <td>u dun say early hor u c already say</td>\n",
       "    </tr>\n",
       "    <tr>\n",
       "      <th>4</th>\n",
       "      <td>ham</td>\n",
       "      <td>Nah I don't think he goes to usf, he lives aro...</td>\n",
       "      <td>nah think go usf life around though</td>\n",
       "    </tr>\n",
       "  </tbody>\n",
       "</table>\n",
       "</div>"
      ],
      "text/plain": [
       "  label                                            message  \\\n",
       "0   ham  Go until jurong point, crazy.. Available only ...   \n",
       "1   ham                      Ok lar... Joking wif u oni...   \n",
       "2  spam  Free entry in 2 a wkly comp to win FA Cup fina...   \n",
       "3   ham  U dun say so early hor... U c already then say...   \n",
       "4   ham  Nah I don't think he goes to usf, he lives aro...   \n",
       "\n",
       "                                          clean_text  \n",
       "0  go jurong point crazy available bugis n great ...  \n",
       "1                            ok lar joking wif u oni  \n",
       "2  free entry 2 wkly comp win fa cup final tkts 2...  \n",
       "3                u dun say early hor u c already say  \n",
       "4                nah think go usf life around though  "
      ]
     },
     "execution_count": 18,
     "metadata": {},
     "output_type": "execute_result"
    }
   ],
   "source": [
    "stop_words = set(stopwords.words('english'))#Liste des mots vides (stopwords) en anglais, tels que \"the\", \"is\", \"and\", qui sont souvent non pertinents pour l'analyse.\n",
    "lemmatizer = WordNetLemmatizer()#Un objet de lemmatisation qui permet de réduire les mots à leur forme racine (ex. \"running\" → \"run\").\n",
    "\n",
    "def clean_text(text):\n",
    "    text = text.lower()  # Convertir en minuscule pour éviter d’avoir des doublons dus à la casse Hello\" et \"hello\" seront considérés comme le même mot\n",
    "    text = re.sub(r'\\W', ' ', text)  # supprimer les caractères non alphabétiques (\\W), en les remplaçant par des espaces.\n",
    "    text = re.sub(r'\\s+', ' ', text)  # Supprimer les espaces multiples résultant de la suppression des caractères spéciaux.\\s+ correspond à un ou plusieurs espaces et les remplace par un seul espace.\n",
    "    words = word_tokenize(text)  # Tokenization\n",
    "    words = [lemmatizer.lemmatize(word) for word in words if word not in stop_words]  # Lemmatisation:Parcourt chaque mot :Supprime les stopwords et Applique la lemmatisation\n",
    "    return \" \".join(words)\n",
    "\n",
    "df['clean_text'] = df['message'].apply(clean_text)\n",
    "df.head()"
   ]
  },
  {
   "cell_type": "code",
   "execution_count": 19,
   "id": "13667446-7a8a-4784-8c32-fdfc662251b4",
   "metadata": {},
   "outputs": [
    {
     "data": {
      "text/html": [
       "<div>\n",
       "<style scoped>\n",
       "    .dataframe tbody tr th:only-of-type {\n",
       "        vertical-align: middle;\n",
       "    }\n",
       "\n",
       "    .dataframe tbody tr th {\n",
       "        vertical-align: top;\n",
       "    }\n",
       "\n",
       "    .dataframe thead th {\n",
       "        text-align: right;\n",
       "    }\n",
       "</style>\n",
       "<table border=\"1\" class=\"dataframe\">\n",
       "  <thead>\n",
       "    <tr style=\"text-align: right;\">\n",
       "      <th></th>\n",
       "      <th>clean_text</th>\n",
       "      <th>label</th>\n",
       "    </tr>\n",
       "  </thead>\n",
       "  <tbody>\n",
       "    <tr>\n",
       "      <th>0</th>\n",
       "      <td>go jurong point crazy available bugis n great ...</td>\n",
       "      <td>ham</td>\n",
       "    </tr>\n",
       "    <tr>\n",
       "      <th>1</th>\n",
       "      <td>ok lar joking wif u oni</td>\n",
       "      <td>ham</td>\n",
       "    </tr>\n",
       "    <tr>\n",
       "      <th>2</th>\n",
       "      <td>free entry 2 wkly comp win fa cup final tkts 2...</td>\n",
       "      <td>spam</td>\n",
       "    </tr>\n",
       "    <tr>\n",
       "      <th>3</th>\n",
       "      <td>u dun say early hor u c already say</td>\n",
       "      <td>ham</td>\n",
       "    </tr>\n",
       "    <tr>\n",
       "      <th>4</th>\n",
       "      <td>nah think go usf life around though</td>\n",
       "      <td>ham</td>\n",
       "    </tr>\n",
       "  </tbody>\n",
       "</table>\n",
       "</div>"
      ],
      "text/plain": [
       "                                          clean_text label\n",
       "0  go jurong point crazy available bugis n great ...   ham\n",
       "1                            ok lar joking wif u oni   ham\n",
       "2  free entry 2 wkly comp win fa cup final tkts 2...  spam\n",
       "3                u dun say early hor u c already say   ham\n",
       "4                nah think go usf life around though   ham"
      ]
     },
     "execution_count": 19,
     "metadata": {},
     "output_type": "execute_result"
    }
   ],
   "source": [
    "#garder uniquement clean text\n",
    "df = df[['clean_text', 'label']]\n",
    "df.head()"
   ]
  },
  {
   "cell_type": "markdown",
   "id": "ae2b1690-5984-47d2-848c-d20dc63d7271",
   "metadata": {},
   "source": [
    "### **Encodage des labels**"
   ]
  },
  {
   "cell_type": "code",
   "execution_count": 21,
   "id": "b2b073bc-56cd-47cf-b197-8bf2210390a7",
   "metadata": {},
   "outputs": [
    {
     "data": {
      "text/html": [
       "<div>\n",
       "<style scoped>\n",
       "    .dataframe tbody tr th:only-of-type {\n",
       "        vertical-align: middle;\n",
       "    }\n",
       "\n",
       "    .dataframe tbody tr th {\n",
       "        vertical-align: top;\n",
       "    }\n",
       "\n",
       "    .dataframe thead th {\n",
       "        text-align: right;\n",
       "    }\n",
       "</style>\n",
       "<table border=\"1\" class=\"dataframe\">\n",
       "  <thead>\n",
       "    <tr style=\"text-align: right;\">\n",
       "      <th></th>\n",
       "      <th>clean_text</th>\n",
       "      <th>label</th>\n",
       "    </tr>\n",
       "  </thead>\n",
       "  <tbody>\n",
       "    <tr>\n",
       "      <th>0</th>\n",
       "      <td>go jurong point crazy available bugis n great ...</td>\n",
       "      <td>0</td>\n",
       "    </tr>\n",
       "    <tr>\n",
       "      <th>1</th>\n",
       "      <td>ok lar joking wif u oni</td>\n",
       "      <td>0</td>\n",
       "    </tr>\n",
       "    <tr>\n",
       "      <th>2</th>\n",
       "      <td>free entry 2 wkly comp win fa cup final tkts 2...</td>\n",
       "      <td>1</td>\n",
       "    </tr>\n",
       "    <tr>\n",
       "      <th>3</th>\n",
       "      <td>u dun say early hor u c already say</td>\n",
       "      <td>0</td>\n",
       "    </tr>\n",
       "    <tr>\n",
       "      <th>4</th>\n",
       "      <td>nah think go usf life around though</td>\n",
       "      <td>0</td>\n",
       "    </tr>\n",
       "  </tbody>\n",
       "</table>\n",
       "</div>"
      ],
      "text/plain": [
       "                                          clean_text  label\n",
       "0  go jurong point crazy available bugis n great ...      0\n",
       "1                            ok lar joking wif u oni      0\n",
       "2  free entry 2 wkly comp win fa cup final tkts 2...      1\n",
       "3                u dun say early hor u c already say      0\n",
       "4                nah think go usf life around though      0"
      ]
     },
     "execution_count": 21,
     "metadata": {},
     "output_type": "execute_result"
    }
   ],
   "source": [
    "encoder = LabelEncoder()\n",
    "df['label'] = encoder.fit_transform(df['label'])  # Spam → 1, Non-Spam → 0\n",
    "df.head()"
   ]
  },
  {
   "cell_type": "markdown",
   "id": "1d1644a8-3853-4305-9f9f-e17c221324fc",
   "metadata": {},
   "source": [
    "### **Transformation en Séquences pour les Modèles (RNN, LSTM, GRU)**"
   ]
  },
  {
   "cell_type": "code",
   "execution_count": 23,
   "id": "3d8e10d8-efa4-4baf-accc-51c0c745f8a1",
   "metadata": {},
   "outputs": [],
   "source": [
    "# Définition du Tokenizer\n",
    "tokenizer = Tokenizer(num_words=5000, oov_token=\"<OOV>\")# Convertit les mots en indices.\n",
    "tokenizer.fit_on_texts(df['clean_text'])\n",
    "\n",
    "# Transformation en séquences numériques\n",
    "sequences = tokenizer.texts_to_sequences(df['clean_text'])# Transforme les messages en séquences de nombres.\n",
    "# Padding pour uniformiser la longueur des séquences\n",
    "max_length = max([len(seq) for seq in sequences])  # Longueur max d'un email\n",
    "X = pad_sequences(sequences, maxlen=max_length, padding=\"post\")#niformise la taille des séquences avec du remplissage.\n",
    "\n",
    "# Labels\n",
    "y = df['label'].values\n"
   ]
  },
  {
   "cell_type": "markdown",
   "id": "51ddd4f7-6bf6-4d2d-a7fc-af34aac7c28d",
   "metadata": {},
   "source": [
    "Après cette étape, X et y sont prêts pour être utilisés comme entrées dans un modèle RNN, LSTM ou GRU."
   ]
  },
  {
   "cell_type": "code",
   "execution_count": 25,
   "id": "08f4ff15-4069-4511-85ad-b05cedccf5ea",
   "metadata": {},
   "outputs": [
    {
     "name": "stdout",
     "output_type": "stream",
     "text": [
      "Message nettoyé : go jurong point crazy available bugis n great world la e buffet cine got amore wat\n",
      "Séquence correspondante : [7, 3604, 274, 572, 541, 1043, 46, 67, 299, 1044, 80, 2409, 1045, 15, 3605, 69]\n",
      "Séquence après padding : [   7 3604  274  572  541 1043   46   67  299 1044   80 2409 1045   15\n",
      " 3605   69    0    0    0    0    0    0    0    0    0    0    0    0\n",
      "    0    0    0    0    0    0    0    0    0    0    0    0    0    0\n",
      "    0    0    0    0    0    0    0    0    0    0    0    0    0    0\n",
      "    0    0    0    0    0    0    0    0    0    0    0    0    0    0\n",
      "    0    0    0    0    0    0    0    0]\n"
     ]
    }
   ],
   "source": [
    "# Affichage d'un exemple de transformation\n",
    "print(f\"Message nettoyé : {df['clean_text'].iloc[0]}\")\n",
    "print(f\"Séquence correspondante : {sequences[0]}\")\n",
    "print(f\"Séquence après padding : {X[0]}\")"
   ]
  },
  {
   "cell_type": "markdown",
   "id": "ac77ac95-e702-4e26-b2c0-b88bdb56d581",
   "metadata": {},
   "source": [
    "# **Modélisation NLP avec RNN, LSTM**"
   ]
  },
  {
   "cell_type": "code",
   "execution_count": 27,
   "id": "a5f133c0-89ad-4ab1-ae59-4db93a4f506a",
   "metadata": {},
   "outputs": [
    {
     "name": "stdout",
     "output_type": "stream",
     "text": [
      "Dimensions de X_train: (4135, 78)\n",
      "Dimensions de X_test: (1034, 78)\n",
      "Dimensions de y_train: (4135,)\n",
      "Dimensions de y_test: (1034,)\n"
     ]
    }
   ],
   "source": [
    "# Diviser les données en 80% pour l'entraînement et 20% pour le test\n",
    "X_train, X_test, y_train, y_test = train_test_split(X, y, test_size=0.2, random_state=42)\n",
    "\n",
    "# Affichage des dimensions des ensembles créés\n",
    "print(f\"Dimensions de X_train: {X_train.shape}\")\n",
    "print(f\"Dimensions de X_test: {X_test.shape}\")\n",
    "print(f\"Dimensions de y_train: {y_train.shape}\")\n",
    "print(f\"Dimensions de y_test: {y_test.shape}\")"
   ]
  },
  {
   "cell_type": "markdown",
   "id": "0b00619c-d2ed-43cb-aa9e-c4ad363c91f4",
   "metadata": {},
   "source": [
    "(4457, 78) → 4457 messages pour l'entraînement, chacun représenté par une séquence de 78 nombres."
   ]
  },
  {
   "cell_type": "markdown",
   "id": "7642e782-8dc8-4840-82d5-461ae1075e4e",
   "metadata": {},
   "source": [
    "## **1.Modélisation avec RNN :**"
   ]
  },
  {
   "cell_type": "markdown",
   "id": "7f062887-d4f3-4884-be1d-804146d7fd3e",
   "metadata": {},
   "source": [
    "**Creation et entraînement du model:**"
   ]
  },
  {
   "cell_type": "code",
   "execution_count": 309,
   "id": "c48e1706-ef68-4669-a303-c9cc8cd17e54",
   "metadata": {},
   "outputs": [
    {
     "name": "stderr",
     "output_type": "stream",
     "text": [
      "C:\\Users\\LENOVO\\anaconda3\\Lib\\site-packages\\keras\\src\\layers\\core\\embedding.py:90: UserWarning: Argument `input_length` is deprecated. Just remove it.\n",
      "  warnings.warn(\n"
     ]
    },
    {
     "data": {
      "text/html": [
       "<pre style=\"white-space:pre;overflow-x:auto;line-height:normal;font-family:Menlo,'DejaVu Sans Mono',consolas,'Courier New',monospace\"><span style=\"font-weight: bold\">Model: \"sequential_17\"</span>\n",
       "</pre>\n"
      ],
      "text/plain": [
       "\u001b[1mModel: \"sequential_17\"\u001b[0m\n"
      ]
     },
     "metadata": {},
     "output_type": "display_data"
    },
    {
     "data": {
      "text/html": [
       "<pre style=\"white-space:pre;overflow-x:auto;line-height:normal;font-family:Menlo,'DejaVu Sans Mono',consolas,'Courier New',monospace\">┏━━━━━━━━━━━━━━━━━━━━━━━━━━━━━━━━━━━━━━┳━━━━━━━━━━━━━━━━━━━━━━━━━━━━━┳━━━━━━━━━━━━━━━━━┓\n",
       "┃<span style=\"font-weight: bold\"> Layer (type)                         </span>┃<span style=\"font-weight: bold\"> Output Shape                </span>┃<span style=\"font-weight: bold\">         Param # </span>┃\n",
       "┡━━━━━━━━━━━━━━━━━━━━━━━━━━━━━━━━━━━━━━╇━━━━━━━━━━━━━━━━━━━━━━━━━━━━━╇━━━━━━━━━━━━━━━━━┩\n",
       "│ embedding_27 (<span style=\"color: #0087ff; text-decoration-color: #0087ff\">Embedding</span>)             │ ?                           │     <span style=\"color: #00af00; text-decoration-color: #00af00\">0</span> (unbuilt) │\n",
       "├──────────────────────────────────────┼─────────────────────────────┼─────────────────┤\n",
       "│ simple_rnn_17 (<span style=\"color: #0087ff; text-decoration-color: #0087ff\">SimpleRNN</span>)            │ ?                           │     <span style=\"color: #00af00; text-decoration-color: #00af00\">0</span> (unbuilt) │\n",
       "├──────────────────────────────────────┼─────────────────────────────┼─────────────────┤\n",
       "│ dropout_27 (<span style=\"color: #0087ff; text-decoration-color: #0087ff\">Dropout</span>)                 │ ?                           │               <span style=\"color: #00af00; text-decoration-color: #00af00\">0</span> │\n",
       "├──────────────────────────────────────┼─────────────────────────────┼─────────────────┤\n",
       "│ dense_27 (<span style=\"color: #0087ff; text-decoration-color: #0087ff\">Dense</span>)                     │ ?                           │     <span style=\"color: #00af00; text-decoration-color: #00af00\">0</span> (unbuilt) │\n",
       "└──────────────────────────────────────┴─────────────────────────────┴─────────────────┘\n",
       "</pre>\n"
      ],
      "text/plain": [
       "┏━━━━━━━━━━━━━━━━━━━━━━━━━━━━━━━━━━━━━━┳━━━━━━━━━━━━━━━━━━━━━━━━━━━━━┳━━━━━━━━━━━━━━━━━┓\n",
       "┃\u001b[1m \u001b[0m\u001b[1mLayer (type)                        \u001b[0m\u001b[1m \u001b[0m┃\u001b[1m \u001b[0m\u001b[1mOutput Shape               \u001b[0m\u001b[1m \u001b[0m┃\u001b[1m \u001b[0m\u001b[1m        Param #\u001b[0m\u001b[1m \u001b[0m┃\n",
       "┡━━━━━━━━━━━━━━━━━━━━━━━━━━━━━━━━━━━━━━╇━━━━━━━━━━━━━━━━━━━━━━━━━━━━━╇━━━━━━━━━━━━━━━━━┩\n",
       "│ embedding_27 (\u001b[38;5;33mEmbedding\u001b[0m)             │ ?                           │     \u001b[38;5;34m0\u001b[0m (unbuilt) │\n",
       "├──────────────────────────────────────┼─────────────────────────────┼─────────────────┤\n",
       "│ simple_rnn_17 (\u001b[38;5;33mSimpleRNN\u001b[0m)            │ ?                           │     \u001b[38;5;34m0\u001b[0m (unbuilt) │\n",
       "├──────────────────────────────────────┼─────────────────────────────┼─────────────────┤\n",
       "│ dropout_27 (\u001b[38;5;33mDropout\u001b[0m)                 │ ?                           │               \u001b[38;5;34m0\u001b[0m │\n",
       "├──────────────────────────────────────┼─────────────────────────────┼─────────────────┤\n",
       "│ dense_27 (\u001b[38;5;33mDense\u001b[0m)                     │ ?                           │     \u001b[38;5;34m0\u001b[0m (unbuilt) │\n",
       "└──────────────────────────────────────┴─────────────────────────────┴─────────────────┘\n"
      ]
     },
     "metadata": {},
     "output_type": "display_data"
    },
    {
     "data": {
      "text/html": [
       "<pre style=\"white-space:pre;overflow-x:auto;line-height:normal;font-family:Menlo,'DejaVu Sans Mono',consolas,'Courier New',monospace\"><span style=\"font-weight: bold\"> Total params: </span><span style=\"color: #00af00; text-decoration-color: #00af00\">0</span> (0.00 B)\n",
       "</pre>\n"
      ],
      "text/plain": [
       "\u001b[1m Total params: \u001b[0m\u001b[38;5;34m0\u001b[0m (0.00 B)\n"
      ]
     },
     "metadata": {},
     "output_type": "display_data"
    },
    {
     "data": {
      "text/html": [
       "<pre style=\"white-space:pre;overflow-x:auto;line-height:normal;font-family:Menlo,'DejaVu Sans Mono',consolas,'Courier New',monospace\"><span style=\"font-weight: bold\"> Trainable params: </span><span style=\"color: #00af00; text-decoration-color: #00af00\">0</span> (0.00 B)\n",
       "</pre>\n"
      ],
      "text/plain": [
       "\u001b[1m Trainable params: \u001b[0m\u001b[38;5;34m0\u001b[0m (0.00 B)\n"
      ]
     },
     "metadata": {},
     "output_type": "display_data"
    },
    {
     "data": {
      "text/html": [
       "<pre style=\"white-space:pre;overflow-x:auto;line-height:normal;font-family:Menlo,'DejaVu Sans Mono',consolas,'Courier New',monospace\"><span style=\"font-weight: bold\"> Non-trainable params: </span><span style=\"color: #00af00; text-decoration-color: #00af00\">0</span> (0.00 B)\n",
       "</pre>\n"
      ],
      "text/plain": [
       "\u001b[1m Non-trainable params: \u001b[0m\u001b[38;5;34m0\u001b[0m (0.00 B)\n"
      ]
     },
     "metadata": {},
     "output_type": "display_data"
    },
    {
     "name": "stdout",
     "output_type": "stream",
     "text": [
      "Epoch 1/30\n",
      "\u001b[1m104/104\u001b[0m \u001b[32m━━━━━━━━━━━━━━━━━━━━\u001b[0m\u001b[37m\u001b[0m \u001b[1m9s\u001b[0m 30ms/step - loss: 0.5340 - precision_27: 0.3172 - recall_27: 0.7491 - val_loss: 0.1360 - val_precision_27: 0.8155 - val_recall_27: 0.9438\n",
      "Epoch 2/30\n",
      "\u001b[1m104/104\u001b[0m \u001b[32m━━━━━━━━━━━━━━━━━━━━\u001b[0m\u001b[37m\u001b[0m \u001b[1m2s\u001b[0m 18ms/step - loss: 0.2051 - precision_27: 0.7931 - recall_27: 0.9370 - val_loss: 0.3557 - val_precision_27: 0.4497 - val_recall_27: 0.9551\n",
      "Epoch 3/30\n",
      "\u001b[1m104/104\u001b[0m \u001b[32m━━━━━━━━━━━━━━━━━━━━\u001b[0m\u001b[37m\u001b[0m \u001b[1m2s\u001b[0m 20ms/step - loss: 0.1552 - precision_27: 0.7792 - recall_27: 0.9658 - val_loss: 0.1196 - val_precision_27: 0.8333 - val_recall_27: 0.9551\n",
      "Epoch 4/30\n",
      "\u001b[1m104/104\u001b[0m \u001b[32m━━━━━━━━━━━━━━━━━━━━\u001b[0m\u001b[37m\u001b[0m \u001b[1m2s\u001b[0m 22ms/step - loss: 0.1240 - precision_27: 0.9391 - recall_27: 0.9619 - val_loss: 0.3026 - val_precision_27: 0.5878 - val_recall_27: 0.9775\n",
      "Epoch 5/30\n",
      "\u001b[1m104/104\u001b[0m \u001b[32m━━━━━━━━━━━━━━━━━━━━\u001b[0m\u001b[37m\u001b[0m \u001b[1m2s\u001b[0m 19ms/step - loss: 0.1517 - precision_27: 0.7878 - recall_27: 0.9688 - val_loss: 0.1319 - val_precision_27: 0.7736 - val_recall_27: 0.9213\n",
      "Epoch 6/30\n",
      "\u001b[1m104/104\u001b[0m \u001b[32m━━━━━━━━━━━━━━━━━━━━\u001b[0m\u001b[37m\u001b[0m \u001b[1m2s\u001b[0m 18ms/step - loss: 0.0672 - precision_27: 0.9381 - recall_27: 0.9830 - val_loss: 0.0851 - val_precision_27: 0.8889 - val_recall_27: 0.8989\n",
      "Epoch 7/30\n",
      "\u001b[1m104/104\u001b[0m \u001b[32m━━━━━━━━━━━━━━━━━━━━\u001b[0m\u001b[37m\u001b[0m \u001b[1m2s\u001b[0m 18ms/step - loss: 0.0628 - precision_27: 0.9581 - recall_27: 0.9844 - val_loss: 0.0817 - val_precision_27: 0.8925 - val_recall_27: 0.9326\n",
      "Epoch 8/30\n",
      "\u001b[1m104/104\u001b[0m \u001b[32m━━━━━━━━━━━━━━━━━━━━\u001b[0m\u001b[37m\u001b[0m \u001b[1m2s\u001b[0m 17ms/step - loss: 0.0591 - precision_27: 0.9346 - recall_27: 0.9847 - val_loss: 0.1965 - val_precision_27: 0.7094 - val_recall_27: 0.9326\n",
      "Epoch 9/30\n",
      "\u001b[1m104/104\u001b[0m \u001b[32m━━━━━━━━━━━━━━━━━━━━\u001b[0m\u001b[37m\u001b[0m \u001b[1m2s\u001b[0m 18ms/step - loss: 0.0507 - precision_27: 0.9433 - recall_27: 0.9940 - val_loss: 0.1660 - val_precision_27: 0.7304 - val_recall_27: 0.9438\n",
      "Epoch 10/30\n",
      "\u001b[1m104/104\u001b[0m \u001b[32m━━━━━━━━━━━━━━━━━━━━\u001b[0m\u001b[37m\u001b[0m \u001b[1m2s\u001b[0m 18ms/step - loss: 0.0183 - precision_27: 0.9691 - recall_27: 0.9978 - val_loss: 0.4033 - val_precision_27: 0.4611 - val_recall_27: 1.0000\n",
      "Epoch 11/30\n",
      "\u001b[1m104/104\u001b[0m \u001b[32m━━━━━━━━━━━━━━━━━━━━\u001b[0m\u001b[37m\u001b[0m \u001b[1m2s\u001b[0m 22ms/step - loss: 0.0612 - precision_27: 0.8754 - recall_27: 0.9894 - val_loss: 0.1803 - val_precision_27: 0.7748 - val_recall_27: 0.9663\n",
      "Epoch 12/30\n",
      "\u001b[1m104/104\u001b[0m \u001b[32m━━━━━━━━━━━━━━━━━━━━\u001b[0m\u001b[37m\u001b[0m \u001b[1m2s\u001b[0m 18ms/step - loss: 0.0714 - precision_27: 0.8870 - recall_27: 0.9878 - val_loss: 2.3865 - val_precision_27: 0.1076 - val_recall_27: 1.0000\n",
      "Epoch 13/30\n",
      "\u001b[1m104/104\u001b[0m \u001b[32m━━━━━━━━━━━━━━━━━━━━\u001b[0m\u001b[37m\u001b[0m \u001b[1m2s\u001b[0m 19ms/step - loss: 0.9330 - precision_27: 0.1490 - recall_27: 0.5425 - val_loss: 0.7179 - val_precision_27: 0.1076 - val_recall_27: 1.0000\n",
      "Epoch 14/30\n",
      "\u001b[1m104/104\u001b[0m \u001b[32m━━━━━━━━━━━━━━━━━━━━\u001b[0m\u001b[37m\u001b[0m \u001b[1m2s\u001b[0m 18ms/step - loss: 0.8450 - precision_27: 0.1243 - recall_27: 0.5229 - val_loss: 0.7640 - val_precision_27: 0.1076 - val_recall_27: 1.0000\n",
      "Epoch 15/30\n",
      "\u001b[1m104/104\u001b[0m \u001b[32m━━━━━━━━━━━━━━━━━━━━\u001b[0m\u001b[37m\u001b[0m \u001b[1m2s\u001b[0m 20ms/step - loss: 0.8333 - precision_27: 0.1165 - recall_27: 0.5183 - val_loss: 0.7307 - val_precision_27: 0.1076 - val_recall_27: 1.0000\n",
      "Epoch 16/30\n",
      "\u001b[1m104/104\u001b[0m \u001b[32m━━━━━━━━━━━━━━━━━━━━\u001b[0m\u001b[37m\u001b[0m \u001b[1m2s\u001b[0m 20ms/step - loss: 0.7852 - precision_27: 0.1242 - recall_27: 0.5509 - val_loss: 0.6845 - val_precision_27: 0.0000e+00 - val_recall_27: 0.0000e+00\n",
      "Epoch 17/30\n",
      "\u001b[1m104/104\u001b[0m \u001b[32m━━━━━━━━━━━━━━━━━━━━\u001b[0m\u001b[37m\u001b[0m \u001b[1m2s\u001b[0m 18ms/step - loss: 0.7799 - precision_27: 0.1228 - recall_27: 0.5340 - val_loss: 0.7249 - val_precision_27: 0.1076 - val_recall_27: 1.0000\n",
      "Epoch 18/30\n",
      "\u001b[1m104/104\u001b[0m \u001b[32m━━━━━━━━━━━━━━━━━━━━\u001b[0m\u001b[37m\u001b[0m \u001b[1m2s\u001b[0m 18ms/step - loss: 0.7335 - precision_27: 0.1447 - recall_27: 0.6284 - val_loss: 0.7175 - val_precision_27: 0.1076 - val_recall_27: 1.0000\n",
      "Epoch 19/30\n",
      "\u001b[1m104/104\u001b[0m \u001b[32m━━━━━━━━━━━━━━━━━━━━\u001b[0m\u001b[37m\u001b[0m \u001b[1m2s\u001b[0m 19ms/step - loss: 0.7530 - precision_27: 0.1259 - recall_27: 0.5529 - val_loss: 0.7535 - val_precision_27: 0.1076 - val_recall_27: 1.0000\n",
      "Epoch 20/30\n",
      "\u001b[1m104/104\u001b[0m \u001b[32m━━━━━━━━━━━━━━━━━━━━\u001b[0m\u001b[37m\u001b[0m \u001b[1m2s\u001b[0m 19ms/step - loss: 0.7340 - precision_27: 0.1332 - recall_27: 0.6186 - val_loss: 0.7179 - val_precision_27: 0.1076 - val_recall_27: 1.0000\n",
      "Epoch 21/30\n",
      "\u001b[1m104/104\u001b[0m \u001b[32m━━━━━━━━━━━━━━━━━━━━\u001b[0m\u001b[37m\u001b[0m \u001b[1m2s\u001b[0m 18ms/step - loss: 0.7424 - precision_27: 0.1363 - recall_27: 0.6011 - val_loss: 0.7222 - val_precision_27: 0.1077 - val_recall_27: 1.0000\n",
      "Epoch 22/30\n",
      "\u001b[1m104/104\u001b[0m \u001b[32m━━━━━━━━━━━━━━━━━━━━\u001b[0m\u001b[37m\u001b[0m \u001b[1m2s\u001b[0m 18ms/step - loss: 0.7272 - precision_27: 0.1423 - recall_27: 0.6349 - val_loss: 0.7515 - val_precision_27: 0.1077 - val_recall_27: 1.0000\n",
      "Epoch 23/30\n",
      "\u001b[1m104/104\u001b[0m \u001b[32m━━━━━━━━━━━━━━━━━━━━\u001b[0m\u001b[37m\u001b[0m \u001b[1m2s\u001b[0m 18ms/step - loss: 0.7283 - precision_27: 0.1378 - recall_27: 0.6635 - val_loss: 0.7579 - val_precision_27: 0.1077 - val_recall_27: 1.0000\n",
      "Epoch 24/30\n",
      "\u001b[1m104/104\u001b[0m \u001b[32m━━━━━━━━━━━━━━━━━━━━\u001b[0m\u001b[37m\u001b[0m \u001b[1m2s\u001b[0m 20ms/step - loss: 0.7291 - precision_27: 0.1409 - recall_27: 0.7076 - val_loss: 0.7680 - val_precision_27: 0.1077 - val_recall_27: 1.0000\n",
      "Epoch 25/30\n",
      "\u001b[1m104/104\u001b[0m \u001b[32m━━━━━━━━━━━━━━━━━━━━\u001b[0m\u001b[37m\u001b[0m \u001b[1m2s\u001b[0m 18ms/step - loss: 0.7290 - precision_27: 0.1326 - recall_27: 0.6847 - val_loss: 0.7395 - val_precision_27: 0.1079 - val_recall_27: 1.0000\n",
      "Epoch 26/30\n",
      "\u001b[1m104/104\u001b[0m \u001b[32m━━━━━━━━━━━━━━━━━━━━\u001b[0m\u001b[37m\u001b[0m \u001b[1m2s\u001b[0m 18ms/step - loss: 0.7343 - precision_27: 0.1305 - recall_27: 0.6593 - val_loss: 0.7587 - val_precision_27: 0.1079 - val_recall_27: 1.0000\n",
      "Epoch 27/30\n",
      "\u001b[1m104/104\u001b[0m \u001b[32m━━━━━━━━━━━━━━━━━━━━\u001b[0m\u001b[37m\u001b[0m \u001b[1m2s\u001b[0m 18ms/step - loss: 0.7215 - precision_27: 0.1428 - recall_27: 0.7375 - val_loss: 0.7562 - val_precision_27: 0.1079 - val_recall_27: 1.0000\n",
      "Epoch 28/30\n",
      "\u001b[1m104/104\u001b[0m \u001b[32m━━━━━━━━━━━━━━━━━━━━\u001b[0m\u001b[37m\u001b[0m \u001b[1m2s\u001b[0m 17ms/step - loss: 0.7272 - precision_27: 0.1363 - recall_27: 0.6989 - val_loss: 0.7347 - val_precision_27: 0.1079 - val_recall_27: 1.0000\n",
      "Epoch 29/30\n",
      "\u001b[1m104/104\u001b[0m \u001b[32m━━━━━━━━━━━━━━━━━━━━\u001b[0m\u001b[37m\u001b[0m \u001b[1m2s\u001b[0m 20ms/step - loss: 0.7316 - precision_27: 0.1305 - recall_27: 0.6871 - val_loss: 0.7661 - val_precision_27: 0.1079 - val_recall_27: 1.0000\n",
      "Epoch 30/30\n",
      "\u001b[1m104/104\u001b[0m \u001b[32m━━━━━━━━━━━━━━━━━━━━\u001b[0m\u001b[37m\u001b[0m \u001b[1m2s\u001b[0m 17ms/step - loss: 0.7248 - precision_27: 0.1356 - recall_27: 0.7351 - val_loss: 0.7518 - val_precision_27: 0.1079 - val_recall_27: 1.0000\n"
     ]
    }
   ],
   "source": [
    "# Paramètres\n",
    "embedding_dim = 100  # taille des vecteurs d'embedding\n",
    "rnn_units = 64  # Nombre d'unités dans la couche RNN\n",
    "max_words = 5000  # Nombre maximal de mots\n",
    "max_len = 100  # Longueur maximale des séquences\n",
    "batch_size = 32\n",
    "epochs = 30\n",
    "\n",
    "# Modèle RNN\n",
    "model_rnn= Sequential()\n",
    "\n",
    "# Couche d'Embedding (vecteurs denses pour chaque mot)\n",
    "model_rnn.add(Embedding(input_dim=max_words, output_dim=embedding_dim, input_length=max_len))\n",
    "\n",
    "# Couche RNN\n",
    "model_rnn.add(SimpleRNN(rnn_units, return_sequences=False))  # `return_sequences=False` pour une seule sortie\n",
    "\n",
    "# Dropout pour éviter le surapprentissage\n",
    "model_rnn.add(Dropout(0.5))\n",
    "\n",
    "# Couche Dense pour la classification binaire (Spam ou Ham)\n",
    "model_rnn.add(Dense(1, activation='sigmoid'))\n",
    "\n",
    "# Compilation du modèle \n",
    "model_rnn.compile(optimizer='adam', loss='binary_crossentropy', metrics=[Precision(), Recall()])\n",
    "\n",
    "# Affichage du résumé du modèle\n",
    "model_rnn.summary()\n",
    "\n",
    "# Calcul des class weights \n",
    "class_weights = compute_class_weight(class_weight='balanced', classes=np.unique(y_train), y=y_train)\n",
    "class_weights = {i: class_weights[i] for i in range(len(class_weights))}\n",
    "\n",
    "# Entraînement du modèle \n",
    "early_stopping = EarlyStopping(monitor='val_loss', patience=30, restore_best_weights=True)\n",
    "history = model_rnn.fit(X_train, y_train, epochs=epochs, batch_size=batch_size, validation_split=0.2, \n",
    "                        callbacks=[early_stopping], class_weight=class_weights)\n"
   ]
  },
  {
   "cell_type": "markdown",
   "id": "6c5bed17-6619-45d0-8458-c70b061fdef3",
   "metadata": {},
   "source": [
    "**Prédiction et Évaluation du Modèle  📊**"
   ]
  },
  {
   "cell_type": "code",
   "execution_count": 311,
   "id": "5d3f4e4c-2362-4e29-8f3f-19bbf7666e87",
   "metadata": {},
   "outputs": [
    {
     "name": "stdout",
     "output_type": "stream",
     "text": [
      "\u001b[1m33/33\u001b[0m \u001b[32m━━━━━━━━━━━━━━━━━━━━\u001b[0m\u001b[37m\u001b[0m \u001b[1m1s\u001b[0m 10ms/step\n"
     ]
    },
    {
     "data": {
      "image/png": "[encoded data removed]",
      "text/plain": [
       "<Figure size 600x400 with 2 Axes>"
      ]
     },
     "metadata": {},
     "output_type": "display_data"
    }
   ],
   "source": [
    "# Prédiction sur les données de test\n",
    "y_pred = (model_rnn.predict(X_test) > 0.5).astype(\"int32\")  # Prédiction binaire (0 ou 1)\n",
    "\n",
    "\n",
    "# Génération de la matrice de confusion\n",
    "cm = confusion_matrix(y_test, y_pred)\n",
    "# Définition des labels avec annotations explicites\n",
    "labels = np.array([\n",
    "    [f\"VN = {cm[0, 0]}\", f\"FP = {cm[0, 1]}\"],  \n",
    "    [f\"FN = {cm[1, 0]}\", f\"VP = {cm[1, 1]}\"]\n",
    "])\n",
    "\n",
    "# Création de la heatmap\n",
    "plt.figure(figsize=(6, 4))\n",
    "sns.heatmap(cm, annot=labels, fmt=\"\", cmap=\"Purples\", xticklabels=['Prédits Ham', 'Prédits Spam'], \n",
    "            yticklabels=['Réels Ham', 'Réels Spam'])\n",
    "\n",
    "# Titres et labels\n",
    "plt.xlabel(\"Prédictions\")\n",
    "plt.ylabel(\"Vérités Réelles\")\n",
    "plt.title(\"Matrice de Confusion avec Annotations\")\n",
    "plt.show()\n",
    "\n",
    "\n"
   ]
  },
  {
   "cell_type": "markdown",
   "id": "614ae03e-e0ee-4159-b69a-cdc51ef92d91",
   "metadata": {},
   "source": [
    "##### Interprétation:"
   ]
  },
  {
   "cell_type": "markdown",
   "id": "b03505ef-fb91-4a2f-b6d3-432f9b520a80",
   "metadata": {},
   "source": [
    "Vrais Négatifs (VN = 875) : 875 emails non spam ont été correctement classés comme \"Ham\".\n",
    "\n",
    "Faux Positifs (FP = 14) : 14 emails non spam (Ham) ont été incorrectement détectés comme Spam.\n",
    "\n",
    "Faux Négatifs (FN = 16) : 16 emails Spam ont été incorrectement classés comme Ham.\n",
    "\n",
    "Vrais Positifs (VP = 129) : 129 emails Spam ont été correctement détectés comme Spam."
   ]
  },
  {
   "cell_type": "code",
   "execution_count": 314,
   "id": "35698b75-96a4-406e-9399-90255659b64c",
   "metadata": {},
   "outputs": [
    {
     "name": "stdout",
     "output_type": "stream",
     "text": [
      "Rapport de Classification :\n",
      "              precision    recall  f1-score   support\n",
      "\n",
      "         Ham       0.98      0.98      0.98       889\n",
      "        Spam       0.90      0.89      0.90       145\n",
      "\n",
      "    accuracy                           0.97      1034\n",
      "   macro avg       0.94      0.94      0.94      1034\n",
      "weighted avg       0.97      0.97      0.97      1034\n",
      "\n"
     ]
    }
   ],
   "source": [
    "# Affichage du rapport de classification (Precision, Recall, F1-Score)\n",
    "print(\"Rapport de Classification :\")\n",
    "print(classification_report(y_test, y_pred, target_names=['Ham', 'Spam']))"
   ]
  },
  {
   "cell_type": "markdown",
   "id": "38d1df94-cd64-4607-bd4c-ca6fc601fa5b",
   "metadata": {},
   "source": [
    "##### Interprétation des résultats\n",
    "Très bonne performance globale :\n",
    "Accuracy=0.97 → 97% des mails sont correctement classés.\n",
    "\n",
    "Classe \"Ham\" presque parfaite :\n",
    "98 % de précision, 98% de rappel → très peu de faux positifs ou faux négatifs pour \"Ham\".\n",
    "\n",
    "Classe \"Spam\" bien détectée :\n",
    "90 % de précision, 89 % de rappel → la majorité des spams sont capturés, avec quelques faux positifs (mails légitimes classés en spam) et quelques spams ratés.\n",
    "\n",
    "F1-score :\n",
    "\"Ham\" = 0.98\n",
    "\"Spam\" = 0.90\n",
    "Cela reflète la différence de difficulté entre détecter un \"Ham\" (classe majoritaire) et un \"Spam\" (moins fréquent).\n",
    "\n",
    "Bien que le modèle affiche une bonne performance globale, il ne détecte pas parfaitement les spams, comme en témoigne un F1-score de 0,86 pour cette classe, indiquant qu'il reste des marges d'amélioration pour réduire les faux négatifs et optimiser la détection."
   ]
  },
  {
   "cell_type": "markdown",
   "id": "2495b069-9224-4226-b7bc-18c581f419d5",
   "metadata": {},
   "source": [
    "Améliorations possibles :\n",
    "Optimisation du modèle : L'ajustement des hyperparamètres ou l'utilisation d'architectures comme LSTM/GRU pourrait améliorer la détection des \"spam\"."
   ]
  },
  {
   "cell_type": "markdown",
   "id": "1cc6e2d2-e973-4f5e-b68d-c3ae028071e7",
   "metadata": {},
   "source": [
    "## **2.Modélisation avec LSTM & Mécanisme d’Attention**"
   ]
  },
  {
   "cell_type": "markdown",
   "id": "c7dbbfcd-c1f3-46a1-92d6-dc89ed75c360",
   "metadata": {},
   "source": [
    "**Creation et entraînement du model:**"
   ]
  },
  {
   "cell_type": "code",
   "execution_count": 283,
   "id": "cf7652eb-bafa-491c-9f88-c10d7221645f",
   "metadata": {},
   "outputs": [
    {
     "data": {
      "text/html": [
       "<pre style=\"white-space:pre;overflow-x:auto;line-height:normal;font-family:Menlo,'DejaVu Sans Mono',consolas,'Courier New',monospace\"><span style=\"font-weight: bold\">Model: \"functional_28\"</span>\n",
       "</pre>\n"
      ],
      "text/plain": [
       "\u001b[1mModel: \"functional_28\"\u001b[0m\n"
      ]
     },
     "metadata": {},
     "output_type": "display_data"
    },
    {
     "data": {
      "text/html": [
       "<pre style=\"white-space:pre;overflow-x:auto;line-height:normal;font-family:Menlo,'DejaVu Sans Mono',consolas,'Courier New',monospace\">┏━━━━━━━━━━━━━━━━━━━━━━━━━━━━━━━┳━━━━━━━━━━━━━━━━━━━━━━━━━━━┳━━━━━━━━━━━━━━━━━┳━━━━━━━━━━━━━━━━━━━━━━━━━━━━┓\n",
       "┃<span style=\"font-weight: bold\"> Layer (type)                  </span>┃<span style=\"font-weight: bold\"> Output Shape              </span>┃<span style=\"font-weight: bold\">         Param # </span>┃<span style=\"font-weight: bold\"> Connected to               </span>┃\n",
       "┡━━━━━━━━━━━━━━━━━━━━━━━━━━━━━━━╇━━━━━━━━━━━━━━━━━━━━━━━━━━━╇━━━━━━━━━━━━━━━━━╇━━━━━━━━━━━━━━━━━━━━━━━━━━━━┩\n",
       "│ input_layer_25 (<span style=\"color: #0087ff; text-decoration-color: #0087ff\">InputLayer</span>)   │ (<span style=\"color: #00d7ff; text-decoration-color: #00d7ff\">None</span>, <span style=\"color: #00af00; text-decoration-color: #00af00\">78</span>)                │               <span style=\"color: #00af00; text-decoration-color: #00af00\">0</span> │ -                          │\n",
       "├───────────────────────────────┼───────────────────────────┼─────────────────┼────────────────────────────┤\n",
       "│ embedding_25 (<span style=\"color: #0087ff; text-decoration-color: #0087ff\">Embedding</span>)      │ (<span style=\"color: #00d7ff; text-decoration-color: #00d7ff\">None</span>, <span style=\"color: #00af00; text-decoration-color: #00af00\">78</span>, <span style=\"color: #00af00; text-decoration-color: #00af00\">100</span>)           │         <span style=\"color: #00af00; text-decoration-color: #00af00\">500,000</span> │ input_layer_25[<span style=\"color: #00af00; text-decoration-color: #00af00\">0</span>][<span style=\"color: #00af00; text-decoration-color: #00af00\">0</span>]       │\n",
       "├───────────────────────────────┼───────────────────────────┼─────────────────┼────────────────────────────┤\n",
       "│ lstm_9 (<span style=\"color: #0087ff; text-decoration-color: #0087ff\">LSTM</span>)                 │ (<span style=\"color: #00d7ff; text-decoration-color: #00d7ff\">None</span>, <span style=\"color: #00af00; text-decoration-color: #00af00\">78</span>, <span style=\"color: #00af00; text-decoration-color: #00af00\">64</span>)            │          <span style=\"color: #00af00; text-decoration-color: #00af00\">42,240</span> │ embedding_25[<span style=\"color: #00af00; text-decoration-color: #00af00\">0</span>][<span style=\"color: #00af00; text-decoration-color: #00af00\">0</span>]         │\n",
       "├───────────────────────────────┼───────────────────────────┼─────────────────┼────────────────────────────┤\n",
       "│ attention_9 (<span style=\"color: #0087ff; text-decoration-color: #0087ff\">Attention</span>)       │ (<span style=\"color: #00d7ff; text-decoration-color: #00d7ff\">None</span>, <span style=\"color: #00af00; text-decoration-color: #00af00\">78</span>, <span style=\"color: #00af00; text-decoration-color: #00af00\">64</span>)            │               <span style=\"color: #00af00; text-decoration-color: #00af00\">0</span> │ lstm_9[<span style=\"color: #00af00; text-decoration-color: #00af00\">0</span>][<span style=\"color: #00af00; text-decoration-color: #00af00\">0</span>], lstm_9[<span style=\"color: #00af00; text-decoration-color: #00af00\">0</span>][<span style=\"color: #00af00; text-decoration-color: #00af00\">0</span>] │\n",
       "├───────────────────────────────┼───────────────────────────┼─────────────────┼────────────────────────────┤\n",
       "│ flatten_9 (<span style=\"color: #0087ff; text-decoration-color: #0087ff\">Flatten</span>)           │ (<span style=\"color: #00d7ff; text-decoration-color: #00d7ff\">None</span>, <span style=\"color: #00af00; text-decoration-color: #00af00\">4992</span>)              │               <span style=\"color: #00af00; text-decoration-color: #00af00\">0</span> │ attention_9[<span style=\"color: #00af00; text-decoration-color: #00af00\">0</span>][<span style=\"color: #00af00; text-decoration-color: #00af00\">0</span>]          │\n",
       "├───────────────────────────────┼───────────────────────────┼─────────────────┼────────────────────────────┤\n",
       "│ dropout_25 (<span style=\"color: #0087ff; text-decoration-color: #0087ff\">Dropout</span>)          │ (<span style=\"color: #00d7ff; text-decoration-color: #00d7ff\">None</span>, <span style=\"color: #00af00; text-decoration-color: #00af00\">4992</span>)              │               <span style=\"color: #00af00; text-decoration-color: #00af00\">0</span> │ flatten_9[<span style=\"color: #00af00; text-decoration-color: #00af00\">0</span>][<span style=\"color: #00af00; text-decoration-color: #00af00\">0</span>]            │\n",
       "├───────────────────────────────┼───────────────────────────┼─────────────────┼────────────────────────────┤\n",
       "│ dense_25 (<span style=\"color: #0087ff; text-decoration-color: #0087ff\">Dense</span>)              │ (<span style=\"color: #00d7ff; text-decoration-color: #00d7ff\">None</span>, <span style=\"color: #00af00; text-decoration-color: #00af00\">1</span>)                 │           <span style=\"color: #00af00; text-decoration-color: #00af00\">4,993</span> │ dropout_25[<span style=\"color: #00af00; text-decoration-color: #00af00\">0</span>][<span style=\"color: #00af00; text-decoration-color: #00af00\">0</span>]           │\n",
       "└───────────────────────────────┴───────────────────────────┴─────────────────┴────────────────────────────┘\n",
       "</pre>\n"
      ],
      "text/plain": [
       "┏━━━━━━━━━━━━━━━━━━━━━━━━━━━━━━━┳━━━━━━━━━━━━━━━━━━━━━━━━━━━┳━━━━━━━━━━━━━━━━━┳━━━━━━━━━━━━━━━━━━━━━━━━━━━━┓\n",
       "┃\u001b[1m \u001b[0m\u001b[1mLayer (type)                 \u001b[0m\u001b[1m \u001b[0m┃\u001b[1m \u001b[0m\u001b[1mOutput Shape             \u001b[0m\u001b[1m \u001b[0m┃\u001b[1m \u001b[0m\u001b[1m        Param #\u001b[0m\u001b[1m \u001b[0m┃\u001b[1m \u001b[0m\u001b[1mConnected to              \u001b[0m\u001b[1m \u001b[0m┃\n",
       "┡━━━━━━━━━━━━━━━━━━━━━━━━━━━━━━━╇━━━━━━━━━━━━━━━━━━━━━━━━━━━╇━━━━━━━━━━━━━━━━━╇━━━━━━━━━━━━━━━━━━━━━━━━━━━━┩\n",
       "│ input_layer_25 (\u001b[38;5;33mInputLayer\u001b[0m)   │ (\u001b[38;5;45mNone\u001b[0m, \u001b[38;5;34m78\u001b[0m)                │               \u001b[38;5;34m0\u001b[0m │ -                          │\n",
       "├───────────────────────────────┼───────────────────────────┼─────────────────┼────────────────────────────┤\n",
       "│ embedding_25 (\u001b[38;5;33mEmbedding\u001b[0m)      │ (\u001b[38;5;45mNone\u001b[0m, \u001b[38;5;34m78\u001b[0m, \u001b[38;5;34m100\u001b[0m)           │         \u001b[38;5;34m500,000\u001b[0m │ input_layer_25[\u001b[38;5;34m0\u001b[0m][\u001b[38;5;34m0\u001b[0m]       │\n",
       "├───────────────────────────────┼───────────────────────────┼─────────────────┼────────────────────────────┤\n",
       "│ lstm_9 (\u001b[38;5;33mLSTM\u001b[0m)                 │ (\u001b[38;5;45mNone\u001b[0m, \u001b[38;5;34m78\u001b[0m, \u001b[38;5;34m64\u001b[0m)            │          \u001b[38;5;34m42,240\u001b[0m │ embedding_25[\u001b[38;5;34m0\u001b[0m][\u001b[38;5;34m0\u001b[0m]         │\n",
       "├───────────────────────────────┼───────────────────────────┼─────────────────┼────────────────────────────┤\n",
       "│ attention_9 (\u001b[38;5;33mAttention\u001b[0m)       │ (\u001b[38;5;45mNone\u001b[0m, \u001b[38;5;34m78\u001b[0m, \u001b[38;5;34m64\u001b[0m)            │               \u001b[38;5;34m0\u001b[0m │ lstm_9[\u001b[38;5;34m0\u001b[0m][\u001b[38;5;34m0\u001b[0m], lstm_9[\u001b[38;5;34m0\u001b[0m][\u001b[38;5;34m0\u001b[0m] │\n",
       "├───────────────────────────────┼───────────────────────────┼─────────────────┼────────────────────────────┤\n",
       "│ flatten_9 (\u001b[38;5;33mFlatten\u001b[0m)           │ (\u001b[38;5;45mNone\u001b[0m, \u001b[38;5;34m4992\u001b[0m)              │               \u001b[38;5;34m0\u001b[0m │ attention_9[\u001b[38;5;34m0\u001b[0m][\u001b[38;5;34m0\u001b[0m]          │\n",
       "├───────────────────────────────┼───────────────────────────┼─────────────────┼────────────────────────────┤\n",
       "│ dropout_25 (\u001b[38;5;33mDropout\u001b[0m)          │ (\u001b[38;5;45mNone\u001b[0m, \u001b[38;5;34m4992\u001b[0m)              │               \u001b[38;5;34m0\u001b[0m │ flatten_9[\u001b[38;5;34m0\u001b[0m][\u001b[38;5;34m0\u001b[0m]            │\n",
       "├───────────────────────────────┼───────────────────────────┼─────────────────┼────────────────────────────┤\n",
       "│ dense_25 (\u001b[38;5;33mDense\u001b[0m)              │ (\u001b[38;5;45mNone\u001b[0m, \u001b[38;5;34m1\u001b[0m)                 │           \u001b[38;5;34m4,993\u001b[0m │ dropout_25[\u001b[38;5;34m0\u001b[0m][\u001b[38;5;34m0\u001b[0m]           │\n",
       "└───────────────────────────────┴───────────────────────────┴─────────────────┴────────────────────────────┘\n"
      ]
     },
     "metadata": {},
     "output_type": "display_data"
    },
    {
     "data": {
      "text/html": [
       "<pre style=\"white-space:pre;overflow-x:auto;line-height:normal;font-family:Menlo,'DejaVu Sans Mono',consolas,'Courier New',monospace\"><span style=\"font-weight: bold\"> Total params: </span><span style=\"color: #00af00; text-decoration-color: #00af00\">547,233</span> (2.09 MB)\n",
       "</pre>\n"
      ],
      "text/plain": [
       "\u001b[1m Total params: \u001b[0m\u001b[38;5;34m547,233\u001b[0m (2.09 MB)\n"
      ]
     },
     "metadata": {},
     "output_type": "display_data"
    },
    {
     "data": {
      "text/html": [
       "<pre style=\"white-space:pre;overflow-x:auto;line-height:normal;font-family:Menlo,'DejaVu Sans Mono',consolas,'Courier New',monospace\"><span style=\"font-weight: bold\"> Trainable params: </span><span style=\"color: #00af00; text-decoration-color: #00af00\">547,233</span> (2.09 MB)\n",
       "</pre>\n"
      ],
      "text/plain": [
       "\u001b[1m Trainable params: \u001b[0m\u001b[38;5;34m547,233\u001b[0m (2.09 MB)\n"
      ]
     },
     "metadata": {},
     "output_type": "display_data"
    },
    {
     "data": {
      "text/html": [
       "<pre style=\"white-space:pre;overflow-x:auto;line-height:normal;font-family:Menlo,'DejaVu Sans Mono',consolas,'Courier New',monospace\"><span style=\"font-weight: bold\"> Non-trainable params: </span><span style=\"color: #00af00; text-decoration-color: #00af00\">0</span> (0.00 B)\n",
       "</pre>\n"
      ],
      "text/plain": [
       "\u001b[1m Non-trainable params: \u001b[0m\u001b[38;5;34m0\u001b[0m (0.00 B)\n"
      ]
     },
     "metadata": {},
     "output_type": "display_data"
    },
    {
     "name": "stdout",
     "output_type": "stream",
     "text": [
      "Epoch 1/30\n",
      "\u001b[1m104/104\u001b[0m \u001b[32m━━━━━━━━━━━━━━━━━━━━\u001b[0m\u001b[37m\u001b[0m \u001b[1m9s\u001b[0m 49ms/step - loss: 0.7137 - precision_25: 0.1519 - recall_25: 0.4367 - val_loss: 0.3329 - val_precision_25: 0.6746 - val_recall_25: 0.9551\n",
      "Epoch 2/30\n",
      "\u001b[1m104/104\u001b[0m \u001b[32m━━━━━━━━━━━━━━━━━━━━\u001b[0m\u001b[37m\u001b[0m \u001b[1m4s\u001b[0m 42ms/step - loss: 0.2093 - precision_25: 0.8570 - recall_25: 0.9023 - val_loss: 0.0596 - val_precision_25: 0.9634 - val_recall_25: 0.8876\n",
      "Epoch 3/30\n",
      "\u001b[1m104/104\u001b[0m \u001b[32m━━━━━━━━━━━━━━━━━━━━\u001b[0m\u001b[37m\u001b[0m \u001b[1m4s\u001b[0m 40ms/step - loss: 0.1164 - precision_25: 0.9613 - recall_25: 0.9508 - val_loss: 0.0405 - val_precision_25: 0.9438 - val_recall_25: 0.9438\n",
      "Epoch 4/30\n",
      "\u001b[1m104/104\u001b[0m \u001b[32m━━━━━━━━━━━━━━━━━━━━\u001b[0m\u001b[37m\u001b[0m \u001b[1m4s\u001b[0m 41ms/step - loss: 0.0776 - precision_25: 0.9760 - recall_25: 0.9734 - val_loss: 0.0495 - val_precision_25: 0.9341 - val_recall_25: 0.9551\n",
      "Epoch 5/30\n",
      "\u001b[1m104/104\u001b[0m \u001b[32m━━━━━━━━━━━━━━━━━━━━\u001b[0m\u001b[37m\u001b[0m \u001b[1m4s\u001b[0m 41ms/step - loss: 0.0238 - precision_25: 0.9826 - recall_25: 0.9883 - val_loss: 0.0491 - val_precision_25: 0.9444 - val_recall_25: 0.9551\n",
      "Epoch 6/30\n",
      "\u001b[1m104/104\u001b[0m \u001b[32m━━━━━━━━━━━━━━━━━━━━\u001b[0m\u001b[37m\u001b[0m \u001b[1m4s\u001b[0m 43ms/step - loss: 0.0090 - precision_25: 0.9928 - recall_25: 0.9992 - val_loss: 0.0551 - val_precision_25: 0.9341 - val_recall_25: 0.9551\n",
      "Epoch 7/30\n",
      "\u001b[1m104/104\u001b[0m \u001b[32m━━━━━━━━━━━━━━━━━━━━\u001b[0m\u001b[37m\u001b[0m \u001b[1m4s\u001b[0m 41ms/step - loss: 0.0047 - precision_25: 0.9928 - recall_25: 0.9992 - val_loss: 0.0648 - val_precision_25: 0.9043 - val_recall_25: 0.9551\n",
      "Epoch 8/30\n",
      "\u001b[1m104/104\u001b[0m \u001b[32m━━━━━━━━━━━━━━━━━━━━\u001b[0m\u001b[37m\u001b[0m \u001b[1m4s\u001b[0m 42ms/step - loss: 0.0028 - precision_25: 0.9998 - recall_25: 0.9992 - val_loss: 0.0805 - val_precision_25: 0.8866 - val_recall_25: 0.9663\n",
      "Epoch 9/30\n",
      "\u001b[1m104/104\u001b[0m \u001b[32m━━━━━━━━━━━━━━━━━━━━\u001b[0m\u001b[37m\u001b[0m \u001b[1m4s\u001b[0m 41ms/step - loss: 8.1046e-04 - precision_25: 1.0000 - recall_25: 1.0000 - val_loss: 0.0764 - val_precision_25: 0.9444 - val_recall_25: 0.9551\n",
      "Epoch 10/30\n",
      "\u001b[1m104/104\u001b[0m \u001b[32m━━━━━━━━━━━━━━━━━━━━\u001b[0m\u001b[37m\u001b[0m \u001b[1m4s\u001b[0m 38ms/step - loss: 2.7843e-04 - precision_25: 1.0000 - recall_25: 1.0000 - val_loss: 0.0771 - val_precision_25: 0.9438 - val_recall_25: 0.9438\n",
      "Epoch 11/30\n",
      "\u001b[1m104/104\u001b[0m \u001b[32m━━━━━━━━━━━━━━━━━━━━\u001b[0m\u001b[37m\u001b[0m \u001b[1m5s\u001b[0m 44ms/step - loss: 1.2938e-04 - precision_25: 1.0000 - recall_25: 1.0000 - val_loss: 0.0794 - val_precision_25: 0.9438 - val_recall_25: 0.9438\n",
      "Epoch 12/30\n",
      "\u001b[1m104/104\u001b[0m \u001b[32m━━━━━━━━━━━━━━━━━━━━\u001b[0m\u001b[37m\u001b[0m \u001b[1m5s\u001b[0m 43ms/step - loss: 8.6728e-05 - precision_25: 1.0000 - recall_25: 1.0000 - val_loss: 0.0816 - val_precision_25: 0.9438 - val_recall_25: 0.9438\n",
      "Epoch 13/30\n",
      "\u001b[1m104/104\u001b[0m \u001b[32m━━━━━━━━━━━━━━━━━━━━\u001b[0m\u001b[37m\u001b[0m \u001b[1m4s\u001b[0m 42ms/step - loss: 6.9901e-05 - precision_25: 1.0000 - recall_25: 1.0000 - val_loss: 0.0848 - val_precision_25: 0.9438 - val_recall_25: 0.9438\n",
      "Epoch 14/30\n",
      "\u001b[1m104/104\u001b[0m \u001b[32m━━━━━━━━━━━━━━━━━━━━\u001b[0m\u001b[37m\u001b[0m \u001b[1m4s\u001b[0m 43ms/step - loss: 4.9549e-05 - precision_25: 1.0000 - recall_25: 1.0000 - val_loss: 0.0867 - val_precision_25: 0.9438 - val_recall_25: 0.9438\n",
      "Epoch 15/30\n",
      "\u001b[1m104/104\u001b[0m \u001b[32m━━━━━━━━━━━━━━━━━━━━\u001b[0m\u001b[37m\u001b[0m \u001b[1m4s\u001b[0m 41ms/step - loss: 3.9551e-05 - precision_25: 1.0000 - recall_25: 1.0000 - val_loss: 0.0883 - val_precision_25: 0.9438 - val_recall_25: 0.9438\n",
      "Epoch 16/30\n",
      "\u001b[1m104/104\u001b[0m \u001b[32m━━━━━━━━━━━━━━━━━━━━\u001b[0m\u001b[37m\u001b[0m \u001b[1m5s\u001b[0m 46ms/step - loss: 3.2427e-05 - precision_25: 1.0000 - recall_25: 1.0000 - val_loss: 0.0908 - val_precision_25: 0.9438 - val_recall_25: 0.9438\n",
      "Epoch 17/30\n",
      "\u001b[1m104/104\u001b[0m \u001b[32m━━━━━━━━━━━━━━━━━━━━\u001b[0m\u001b[37m\u001b[0m \u001b[1m4s\u001b[0m 42ms/step - loss: 2.7101e-05 - precision_25: 1.0000 - recall_25: 1.0000 - val_loss: 0.0924 - val_precision_25: 0.9438 - val_recall_25: 0.9438\n",
      "Epoch 18/30\n",
      "\u001b[1m104/104\u001b[0m \u001b[32m━━━━━━━━━━━━━━━━━━━━\u001b[0m\u001b[37m\u001b[0m \u001b[1m4s\u001b[0m 41ms/step - loss: 2.2199e-05 - precision_25: 1.0000 - recall_25: 1.0000 - val_loss: 0.0936 - val_precision_25: 0.9438 - val_recall_25: 0.9438\n",
      "Epoch 19/30\n",
      "\u001b[1m104/104\u001b[0m \u001b[32m━━━━━━━━━━━━━━━━━━━━\u001b[0m\u001b[37m\u001b[0m \u001b[1m4s\u001b[0m 41ms/step - loss: 1.9601e-05 - precision_25: 1.0000 - recall_25: 1.0000 - val_loss: 0.0955 - val_precision_25: 0.9438 - val_recall_25: 0.9438\n",
      "Epoch 20/30\n",
      "\u001b[1m104/104\u001b[0m \u001b[32m━━━━━━━━━━━━━━━━━━━━\u001b[0m\u001b[37m\u001b[0m \u001b[1m4s\u001b[0m 40ms/step - loss: 1.6895e-05 - precision_25: 1.0000 - recall_25: 1.0000 - val_loss: 0.0967 - val_precision_25: 0.9438 - val_recall_25: 0.9438\n",
      "Epoch 21/30\n",
      "\u001b[1m104/104\u001b[0m \u001b[32m━━━━━━━━━━━━━━━━━━━━\u001b[0m\u001b[37m\u001b[0m \u001b[1m4s\u001b[0m 40ms/step - loss: 1.6287e-05 - precision_25: 1.0000 - recall_25: 1.0000 - val_loss: 0.0989 - val_precision_25: 0.9444 - val_recall_25: 0.9551\n",
      "Epoch 22/30\n",
      "\u001b[1m104/104\u001b[0m \u001b[32m━━━━━━━━━━━━━━━━━━━━\u001b[0m\u001b[37m\u001b[0m \u001b[1m4s\u001b[0m 42ms/step - loss: 1.6381e-05 - precision_25: 1.0000 - recall_25: 1.0000 - val_loss: 0.1014 - val_precision_25: 0.9444 - val_recall_25: 0.9551\n",
      "Epoch 23/30\n",
      "\u001b[1m104/104\u001b[0m \u001b[32m━━━━━━━━━━━━━━━━━━━━\u001b[0m\u001b[37m\u001b[0m \u001b[1m5s\u001b[0m 44ms/step - loss: 1.1371e-05 - precision_25: 1.0000 - recall_25: 1.0000 - val_loss: 0.1019 - val_precision_25: 0.9444 - val_recall_25: 0.9551\n",
      "Epoch 24/30\n",
      "\u001b[1m104/104\u001b[0m \u001b[32m━━━━━━━━━━━━━━━━━━━━\u001b[0m\u001b[37m\u001b[0m \u001b[1m5s\u001b[0m 44ms/step - loss: 1.0167e-05 - precision_25: 1.0000 - recall_25: 1.0000 - val_loss: 0.1028 - val_precision_25: 0.9444 - val_recall_25: 0.9551\n",
      "Epoch 25/30\n",
      "\u001b[1m104/104\u001b[0m \u001b[32m━━━━━━━━━━━━━━━━━━━━\u001b[0m\u001b[37m\u001b[0m \u001b[1m5s\u001b[0m 44ms/step - loss: 8.8991e-06 - precision_25: 1.0000 - recall_25: 1.0000 - val_loss: 0.1037 - val_precision_25: 0.9444 - val_recall_25: 0.9551\n",
      "Epoch 26/30\n",
      "\u001b[1m104/104\u001b[0m \u001b[32m━━━━━━━━━━━━━━━━━━━━\u001b[0m\u001b[37m\u001b[0m \u001b[1m6s\u001b[0m 53ms/step - loss: 7.9057e-06 - precision_25: 1.0000 - recall_25: 1.0000 - val_loss: 0.1045 - val_precision_25: 0.9438 - val_recall_25: 0.9438\n",
      "Epoch 27/30\n",
      "\u001b[1m104/104\u001b[0m \u001b[32m━━━━━━━━━━━━━━━━━━━━\u001b[0m\u001b[37m\u001b[0m \u001b[1m5s\u001b[0m 48ms/step - loss: 7.8437e-06 - precision_25: 1.0000 - recall_25: 1.0000 - val_loss: 0.1072 - val_precision_25: 0.9444 - val_recall_25: 0.9551\n",
      "Epoch 28/30\n",
      "\u001b[1m104/104\u001b[0m \u001b[32m━━━━━━━━━━━━━━━━━━━━\u001b[0m\u001b[37m\u001b[0m \u001b[1m4s\u001b[0m 41ms/step - loss: 6.6547e-06 - precision_25: 1.0000 - recall_25: 1.0000 - val_loss: 0.1087 - val_precision_25: 0.9444 - val_recall_25: 0.9551\n",
      "Epoch 29/30\n",
      "\u001b[1m104/104\u001b[0m \u001b[32m━━━━━━━━━━━━━━━━━━━━\u001b[0m\u001b[37m\u001b[0m \u001b[1m5s\u001b[0m 46ms/step - loss: 5.6807e-06 - precision_25: 1.0000 - recall_25: 1.0000 - val_loss: 0.1098 - val_precision_25: 0.9444 - val_recall_25: 0.9551\n",
      "Epoch 30/30\n",
      "\u001b[1m104/104\u001b[0m \u001b[32m━━━━━━━━━━━━━━━━━━━━\u001b[0m\u001b[37m\u001b[0m \u001b[1m5s\u001b[0m 45ms/step - loss: 5.3255e-06 - precision_25: 1.0000 - recall_25: 1.0000 - val_loss: 0.1104 - val_precision_25: 0.9444 - val_recall_25: 0.9551\n"
     ]
    }
   ],
   "source": [
    "# Paramètres du modèle\n",
    "embedding_dim = 100\n",
    "lstm_units = 64\n",
    "max_len = max_length  # Longueur maximale des séquences\n",
    "\n",
    "# Définir les entrées\n",
    "inputs = Input(shape=(max_len,))\n",
    "\n",
    "# Embedding Layer\n",
    "embedding = Embedding(input_dim=5000, output_dim=embedding_dim)(inputs)\n",
    "\n",
    "# LSTM Layer\n",
    "lstm_output = LSTM(lstm_units, return_sequences=True)(embedding)\n",
    "\n",
    "# Attention Layer - attention à la sortie de LSTM\n",
    "attention_output = Attention()([lstm_output, lstm_output])  # Attention sur la même sortie (query = value)\n",
    "\n",
    "flatten_output = Flatten()(attention_output)\n",
    "\n",
    "# Dropout pour éviter le sur-apprentissage\n",
    "dropout_output = Dropout(0.5)(flatten_output)\n",
    "\n",
    "# Dense Layer pour la classification\n",
    "dense_output = Dense(1, activation='sigmoid')(dropout_output)\n",
    "\n",
    "# Créer le modèle\n",
    "model_lstm = Model(inputs=inputs, outputs=dense_output)\n",
    "\n",
    "# Compilation du modèle\n",
    "model_lstm.compile(optimizer='adam', loss='binary_crossentropy', metrics=[Precision(), Recall()])\n",
    "\n",
    "\n",
    "# Résumé du modèle\n",
    "model_lstm.summary()\n",
    "\n",
    "# Calcul des class weights\n",
    "class_weights = compute_class_weight(class_weight='balanced', classes=np.unique(y_train), y=y_train)\n",
    "class_weights = {i: class_weights[i] for i in range(len(class_weights))}\n",
    "\n",
    "# Callbacks\n",
    "early_stopping = EarlyStopping(monitor='val_loss', patience=30, restore_best_weights=True)\n",
    "\n",
    "# Entraîner le modèle\n",
    "history = model_lstm.fit(X_train, y_train, epochs=30, batch_size=32, validation_split=0.2, \n",
    "                          class_weight=class_weights, callbacks=[early_stopping])"
   ]
  },
  {
   "cell_type": "markdown",
   "id": "f8ef8a76-5dd2-45e1-8c83-a6ab64909848",
   "metadata": {},
   "source": [
    "**Prédiction et Évaluation du Modèle  📊**"
   ]
  },
  {
   "cell_type": "code",
   "execution_count": 285,
   "id": "c25d613c-4824-494b-b530-723892c64973",
   "metadata": {},
   "outputs": [
    {
     "name": "stdout",
     "output_type": "stream",
     "text": [
      "\u001b[1m33/33\u001b[0m \u001b[32m━━━━━━━━━━━━━━━━━━━━\u001b[0m\u001b[37m\u001b[0m \u001b[1m1s\u001b[0m 23ms/step\n"
     ]
    },
    {
     "data": {
      "image/png": "[encoded data removed]",
      "text/plain": [
       "<Figure size 600x400 with 2 Axes>"
      ]
     },
     "metadata": {},
     "output_type": "display_data"
    }
   ],
   "source": [
    "# Prédictions sur le jeu de test\n",
    "y_pred = (model_lstm.predict(X_test) > 0.5).astype(\"int32\")\n",
    "\n",
    "# Matrice de confusion\n",
    "cm = confusion_matrix(y_test, y_pred)\n",
    "\n",
    "# Définition des labels avec annotations explicites\n",
    "labels = np.array([\n",
    "    [f\"VN = {cm[0, 0]}\", f\"FP = {cm[0, 1]}\"],  \n",
    "    [f\"FN = {cm[1, 0]}\", f\"VP = {cm[1, 1]}\"]\n",
    "])\n",
    "\n",
    "# Création de la heatmap\n",
    "plt.figure(figsize=(6, 4))\n",
    "sns.heatmap(cm, annot=labels, fmt=\"\", cmap=\"Purples\", xticklabels=['Prédits Ham', 'Prédits Spam'], \n",
    "            yticklabels=['Réels Ham', 'Réels Spam'])\n",
    "\n",
    "# Titres et labels\n",
    "plt.xlabel(\"Prédictions\")\n",
    "plt.ylabel(\"Vérités Réelles\")\n",
    "plt.title(\"Matrice de Confusion avec Annotations\")\n",
    "plt.show()"
   ]
  },
  {
   "cell_type": "markdown",
   "id": "8ee03c09-abc5-4325-8616-6ad3c4fd990e",
   "metadata": {},
   "source": [
    "##### **Interprétation:**\n",
    "Vrais Négatifs (VN = 881) : 881 emails non spam ont été correctement classés comme \"Ham\" (a augmenté par rapport a RNN)\n",
    "\n",
    "Faux Positifs (FP = 8) : 8 emails non spam (Ham) ont été incorrectement détectés comme Spam (a diminué par rapport a RNN)\n",
    "\n",
    "Faux Négatifs (FN=9) :9 emails Spam ont été incorrectement classés comme Ham (a diminué par rapport a RNN).\n",
    "\n",
    "Vrais Positifs (VP= 136) :136 emails Spam ont été correctement détectés comme Spam (a augmenté par rapport a RNN)e Spam."
   ]
  },
  {
   "cell_type": "code",
   "execution_count": 297,
   "id": "85f15681-10a2-42fa-a365-c4df3fc0ad24",
   "metadata": {},
   "outputs": [
    {
     "name": "stdout",
     "output_type": "stream",
     "text": [
      "Rapport de Classification :\n",
      "              precision    recall  f1-score   support\n",
      "\n",
      "         Ham       0.99      0.99      0.99       889\n",
      "        Spam       0.94      0.94      0.94       145\n",
      "\n",
      "    accuracy                           0.98      1034\n",
      "   macro avg       0.97      0.96      0.97      1034\n",
      "weighted avg       0.98      0.98      0.98      1034\n",
      "\n"
     ]
    }
   ],
   "source": [
    "# Rapport de classification\n",
    "report = classification_report(y_test, y_pred, target_names=[\"Ham\", \"Spam\"])\n",
    "print(\"Rapport de Classification :\")\n",
    "print(report)"
   ]
  },
  {
   "cell_type": "markdown",
   "id": "8dfd9c93-b4be-4d5e-8a95-f3a8257817fe",
   "metadata": {},
   "source": [
    "##### **Interprétation**\n",
    "Classe \"Ham\" : Le modèle atteint des résultats quasi parfaits, avec un précision de 99 % et un rappel de 99 %, ce qui signifie qu'il détecte presque tous les emails légitimes sans faire d'erreurs.\n",
    "\n",
    "Classe \"Spam\" : La détection des spams est également solide, avec une précision de 94 % et un rappel de 94 %, ce qui montre que le modèle identifie correctement la majorité des spams tout en réduisant les faux positifs.\n",
    "\n",
    "Performance globale : L'accuracy de 98 % et les scores F1 élevés pour les deux classes montrent que le modèle est robuste et performant pour la classification des emails.\n"
   ]
  },
  {
   "cell_type": "markdown",
   "id": "0c16d802-6d5d-4a8e-a5fa-f4f41634890d",
   "metadata": {},
   "source": [
    "##### **Comparaison entre les resultats de RNN et LSTM**"
   ]
  },
  {
   "cell_type": "code",
   "execution_count": 259,
   "id": "9c2afd57-f73c-4a09-9b3b-3e875326524d",
   "metadata": {},
   "outputs": [
    {
     "data": {
      "text/html": [
       "<div>\n",
       "<style scoped>\n",
       "    .dataframe tbody tr th:only-of-type {\n",
       "        vertical-align: middle;\n",
       "    }\n",
       "\n",
       "    .dataframe tbody tr th {\n",
       "        vertical-align: top;\n",
       "    }\n",
       "\n",
       "    .dataframe thead th {\n",
       "        text-align: right;\n",
       "    }\n",
       "</style>\n",
       "<table border=\"1\" class=\"dataframe\">\n",
       "  <thead>\n",
       "    <tr style=\"text-align: right;\">\n",
       "      <th></th>\n",
       "      <th>Métrique</th>\n",
       "      <th>RNN</th>\n",
       "      <th>LSTM</th>\n",
       "    </tr>\n",
       "  </thead>\n",
       "  <tbody>\n",
       "    <tr>\n",
       "      <th>0</th>\n",
       "      <td>Précision (Ham)</td>\n",
       "      <td>0.98</td>\n",
       "      <td>0.99</td>\n",
       "    </tr>\n",
       "    <tr>\n",
       "      <th>1</th>\n",
       "      <td>Rappel (Ham)</td>\n",
       "      <td>0.97</td>\n",
       "      <td>0.99</td>\n",
       "    </tr>\n",
       "    <tr>\n",
       "      <th>2</th>\n",
       "      <td>F1-Score (Ham)</td>\n",
       "      <td>0.98</td>\n",
       "      <td>0.99</td>\n",
       "    </tr>\n",
       "    <tr>\n",
       "      <th>3</th>\n",
       "      <td>Précision (Spam)</td>\n",
       "      <td>0.84</td>\n",
       "      <td>0.94</td>\n",
       "    </tr>\n",
       "    <tr>\n",
       "      <th>4</th>\n",
       "      <td>Rappel (Spam)</td>\n",
       "      <td>0.88</td>\n",
       "      <td>0.92</td>\n",
       "    </tr>\n",
       "    <tr>\n",
       "      <th>5</th>\n",
       "      <td>F1-Score (Spam)</td>\n",
       "      <td>0.86</td>\n",
       "      <td>0.93</td>\n",
       "    </tr>\n",
       "    <tr>\n",
       "      <th>6</th>\n",
       "      <td>Exactitude</td>\n",
       "      <td>0.96</td>\n",
       "      <td>0.98</td>\n",
       "    </tr>\n",
       "  </tbody>\n",
       "</table>\n",
       "</div>"
      ],
      "text/plain": [
       "           Métrique   RNN  LSTM\n",
       "0   Précision (Ham)  0.98  0.99\n",
       "1      Rappel (Ham)  0.97  0.99\n",
       "2    F1-Score (Ham)  0.98  0.99\n",
       "3  Précision (Spam)  0.84  0.94\n",
       "4     Rappel (Spam)  0.88  0.92\n",
       "5   F1-Score (Spam)  0.86  0.93\n",
       "6        Exactitude  0.96  0.98"
      ]
     },
     "execution_count": 259,
     "metadata": {},
     "output_type": "execute_result"
    }
   ],
   "source": [
    "import pandas as pd\n",
    "\n",
    "# Data for comparison\n",
    "data = {\n",
    "    \"Métrique\": [\"Précision (Ham)\", \"Rappel (Ham)\", \"F1-Score (Ham)\",\n",
    "                 \"Précision (Spam)\", \"Rappel (Spam)\", \"F1-Score (Spam)\",\n",
    "                 \"Exactitude\"],\n",
    "    \"RNN\": [0.98, 0.97, 0.98, 0.84, 0.88, 0.86, 0.96],\n",
    "    \"LSTM\": [0.99, 0.99, 0.99, 0.94, 0.92, 0.93, 0.98]\n",
    "}\n",
    "\n",
    "# Creating a DataFrame\n",
    "df_comparison = pd.DataFrame(data)\n",
    "\n",
    "# Display the comparison table\n",
    "df_comparison\n"
   ]
  },
  {
   "cell_type": "markdown",
   "id": "d7ba847e-cec4-4e4e-be94-6643ae4339f2",
   "metadata": {},
   "source": [
    "Le modèle LSTM surpasse globalement le modèle RNN dans tous les aspects :\n",
    "\n",
    "-Meilleure précision, rappel et score F1 pour les deux classes (\"Ham\" et \"Spam\").\n",
    "\n",
    "-Meilleure précision globale (accuracy), avec 98 % contre 96 % pour le RNN.\n",
    "\n",
    "-Moins de faux positifs et de faux négatifs, ce qui améliore la robustesse du modèle."
   ]
  },
  {
   "cell_type": "markdown",
   "id": "205da8ce-caad-4625-ac8a-6f8f5437fa0f",
   "metadata": {},
   "source": [
    "### **Extraction et Visualisation des scores d’attention**"
   ]
  },
  {
   "cell_type": "code",
   "execution_count": 262,
   "id": "884fb798-1123-4fc7-af78-6351ab0ff927",
   "metadata": {},
   "outputs": [
    {
     "name": "stdout",
     "output_type": "stream",
     "text": [
      "\u001b[1m1/1\u001b[0m \u001b[32m━━━━━━━━━━━━━━━━━━━━\u001b[0m\u001b[37m\u001b[0m \u001b[1m0s\u001b[0m 260ms/step\n"
     ]
    },
    {
     "data": {
      "image/png": "[encoded data removed]",
      "text/plain": [
       "<Figure size 1000x400 with 1 Axes>"
      ]
     },
     "metadata": {},
     "output_type": "display_data"
    }
   ],
   "source": [
    "# Extraire les scores d'attention\n",
    "attention_model = Model(inputs=inputs, outputs=attention_output)  # Le modèle pour obtenir les scores d'attention\n",
    "\n",
    "# Choisir un échantillon à analyser (par exemple, la première séquence d'entrée)\n",
    "sample_text = df['clean_text'].iloc[2]  # Remplacer par l'index du texte que tu veux analyser\n",
    "sample_sequence = tokenizer.texts_to_sequences([sample_text])\n",
    "sample_sequence_padded = pad_sequences(sample_sequence, maxlen=max_len, padding='post')\n",
    "\n",
    "# Prédire les scores d'attention\n",
    "attention_scores = attention_model.predict(sample_sequence_padded)\n",
    "\n",
    "# Obtenir les scores d'attention pour chaque mot (somme des scores d'attention à travers les différentes positions)\n",
    "attention_weights = np.sum(attention_scores[0], axis=0)\n",
    "\n",
    "# Récupérer les mots correspondants aux indices, en excluant les padding (valeurs 0)\n",
    "words = tokenizer.sequences_to_texts(sample_sequence_padded)[0].split()\n",
    "\n",
    "# Filtrer les indices non nuls\n",
    "non_padded_indices = [i for i, val in enumerate(sample_sequence_padded[0]) if val != 0]\n",
    "filtered_attention_weights = [attention_weights[i] for i in non_padded_indices]\n",
    "filtered_words = [words[i] for i in non_padded_indices]\n",
    "\n",
    "# Mapper les mots et leur score d'attention\n",
    "word_attention_map = {word: filtered_attention_weights[i] for i, word in enumerate(filtered_words)}\n",
    "\n",
    "# Afficher la carte de chaleur des scores d'attention\n",
    "plt.figure(figsize=(10, 4))\n",
    "plt.barh(list(word_attention_map.keys()), list(word_attention_map.values()))\n",
    "plt.xlabel('Score d\\'attention')\n",
    "plt.title('Scores d\\'Attention pour chaque mot')\n",
    "plt.savefig(\"Scores.png\")\n",
    "plt.show()\n"
   ]
  },
  {
   "cell_type": "markdown",
   "id": "c5760d16-e616-402e-8d1f-1dad2bc48c30",
   "metadata": {},
   "source": [
    "## **3.Modélisation avec Transformers**"
   ]
  },
  {
   "cell_type": "markdown",
   "id": "1bef7752-54c9-4f0b-bc5c-862c425a5f63",
   "metadata": {},
   "source": [
    "Pour la modélisation avec Transformers, nous allons utiliser BERT (Bidirectional Encoder Representations from Transformers), un modèle de référence pour la classification de texte. Il'y a d'autres architectures comme GPT ou T5, mais BERT est particulièrement bien adapté à la classification des emails en spam ou ham."
   ]
  },
  {
   "cell_type": "markdown",
   "id": "314ff8b5-b131-497a-a808-68d5cbcd6752",
   "metadata": {},
   "source": [
    "Nous allons utiliser un tokenizer BERT pour transformer le texte en tokens adaptés au modèle."
   ]
  },
  {
   "cell_type": "markdown",
   "id": "a2a94dc4-d73e-44ec-9408-12e855aa6859",
   "metadata": {},
   "source": [
    "**Creation et entraînement du model:**"
   ]
  },
  {
   "cell_type": "code",
   "execution_count": 110,
   "id": "85f868e2-704d-4ca5-8885-6efdccb1ca4f",
   "metadata": {},
   "outputs": [
    {
     "data": {
      "application/vnd.jupyter.widget-view+json": {
       "model_id": "393c1cbe87ca4d6db839834ff92d40fb",
       "version_major": 2,
       "version_minor": 0
      },
      "text/plain": [
       "Map:   0%|          | 0/5169 [00:00<?, ? examples/s]"
      ]
     },
     "metadata": {},
     "output_type": "display_data"
    }
   ],
   "source": [
    "df = df[['clean_text', 'label']]  # 'text' contient les emails, 'label' = 0 (ham) ou 1 (spam)\n",
    "\n",
    "# Charger le tokenizer BERT\n",
    "tokenizer = BertTokenizer.from_pretrained(\"bert-base-uncased\")\n",
    "\n",
    "# Fonction de tokenization\n",
    "def tokenize_function(examples):\n",
    "    return tokenizer(examples[\"clean_text\"], padding=\"max_length\", truncation=True,max_length=512)\n",
    "\n",
    "# Convertir le dataframe en Dataset Hugging Face\n",
    "dataset = Dataset.from_pandas(df)\n",
    "\n",
    "# Tokenization des données\n",
    "tokenized_datasets = dataset.map(tokenize_function, batched=True, remove_columns=[\"clean_text\"])\n",
    "\n",
    "# Split train/test\n",
    "train_test_split = tokenized_datasets.train_test_split(test_size=0.2)"
   ]
  },
  {
   "cell_type": "code",
   "execution_count": 111,
   "id": "2fa906cc-1933-4acb-997d-2d9810dd3e64",
   "metadata": {
    "scrolled": true
   },
   "outputs": [
    {
     "name": "stderr",
     "output_type": "stream",
     "text": [
      "Some weights of BertForSequenceClassification were not initialized from the model checkpoint at bert-base-uncased and are newly initialized: ['classifier.bias', 'classifier.weight']\n",
      "You should probably TRAIN this model on a down-stream task to be able to use it for predictions and inference.\n",
      "C:\\Users\\LENOVO\\anaconda3\\Lib\\site-packages\\transformers\\training_args.py:1575: FutureWarning: `evaluation_strategy` is deprecated and will be removed in version 4.46 of 🤗 Transformers. Use `eval_strategy` instead\n",
      "  warnings.warn(\n",
      "C:\\Users\\LENOVO\\AppData\\Local\\Temp\\ipykernel_1344\\510777504.py:25: FutureWarning: `tokenizer` is deprecated and will be removed in version 5.0.0 for `Trainer.__init__`. Use `processing_class` instead.\n",
      "  trainer = Trainer(\n"
     ]
    },
    {
     "data": {
      "text/html": [
       "\n",
       "    <div>\n",
       "      \n",
       "      <progress value='517' max='517' style='width:300px; height:20px; vertical-align: middle;'></progress>\n",
       "      [517/517 4:43:53, Epoch 1/1]\n",
       "    </div>\n",
       "    <table border=\"1\" class=\"dataframe\">\n",
       "  <thead>\n",
       " <tr style=\"text-align: left;\">\n",
       "      <th>Step</th>\n",
       "      <th>Training Loss</th>\n",
       "      <th>Validation Loss</th>\n",
       "    </tr>\n",
       "  </thead>\n",
       "  <tbody>\n",
       "    <tr>\n",
       "      <td>50</td>\n",
       "      <td>No log</td>\n",
       "      <td>0.153758</td>\n",
       "    </tr>\n",
       "    <tr>\n",
       "      <td>100</td>\n",
       "      <td>No log</td>\n",
       "      <td>0.081054</td>\n",
       "    </tr>\n",
       "    <tr>\n",
       "      <td>150</td>\n",
       "      <td>No log</td>\n",
       "      <td>0.064983</td>\n",
       "    </tr>\n",
       "    <tr>\n",
       "      <td>200</td>\n",
       "      <td>0.166400</td>\n",
       "      <td>0.072539</td>\n",
       "    </tr>\n",
       "    <tr>\n",
       "      <td>250</td>\n",
       "      <td>0.166400</td>\n",
       "      <td>0.075799</td>\n",
       "    </tr>\n",
       "    <tr>\n",
       "      <td>300</td>\n",
       "      <td>0.166400</td>\n",
       "      <td>0.063689</td>\n",
       "    </tr>\n",
       "    <tr>\n",
       "      <td>350</td>\n",
       "      <td>0.166400</td>\n",
       "      <td>0.065487</td>\n",
       "    </tr>\n",
       "    <tr>\n",
       "      <td>400</td>\n",
       "      <td>0.057500</td>\n",
       "      <td>0.063583</td>\n",
       "    </tr>\n",
       "    <tr>\n",
       "      <td>450</td>\n",
       "      <td>0.057500</td>\n",
       "      <td>0.064576</td>\n",
       "    </tr>\n",
       "    <tr>\n",
       "      <td>500</td>\n",
       "      <td>0.057500</td>\n",
       "      <td>0.066601</td>\n",
       "    </tr>\n",
       "  </tbody>\n",
       "</table><p>"
      ],
      "text/plain": [
       "<IPython.core.display.HTML object>"
      ]
     },
     "metadata": {},
     "output_type": "display_data"
    },
    {
     "name": "stderr",
     "output_type": "stream",
     "text": [
      "Could not locate the best model at ./results\\checkpoint-400\\pytorch_model.bin, if you are running a distributed training on multiple nodes, you should activate `--save_on_each_node`.\n"
     ]
    },
    {
     "data": {
      "text/plain": [
       "TrainOutput(global_step=517, training_loss=0.09653327451222639, metrics={'train_runtime': 17065.5713, 'train_samples_per_second': 0.242, 'train_steps_per_second': 0.03, 'total_flos': 1087964213913600.0, 'train_loss': 0.09653327451222639, 'epoch': 1.0})"
      ]
     },
     "execution_count": 111,
     "metadata": {},
     "output_type": "execute_result"
    }
   ],
   "source": [
    "from transformers import EarlyStoppingCallback\n",
    "\n",
    "# Charger un modèle pré-entraîné pour la classification\n",
    "\n",
    "model = BertForSequenceClassification.from_pretrained(\"bert-base-uncased\", num_labels=2)\n",
    "\n",
    "# Définition des arguments d'entraînement\n",
    "training_args = TrainingArguments(\n",
    "    output_dir=\"./results\",\n",
    "    evaluation_strategy=\"steps\",  # évaluer toutes les X steps\n",
    "    eval_steps=50,  # par exemple, évaluer toutes les 50 itérations\n",
    "    save_strategy=\"steps\",\n",
    "    per_device_train_batch_size=8,  # augmenter la taille si possible\n",
    "    per_device_eval_batch_size=8,\n",
    "    num_train_epochs=1,\n",
    "    learning_rate=1e-5,\n",
    "    weight_decay=0.01,\n",
    "    logging_dir=\"./logs\",\n",
    "    logging_steps=200,\n",
    "    load_best_model_at_end=True,\n",
    "    fp16=False  # Désactivation car pas de GPU\n",
    ")\n",
    "\n",
    "# Trainer pour entraîner le modèle\n",
    "trainer = Trainer(\n",
    "    model=model,\n",
    "    args=training_args,\n",
    "    train_dataset=train_test_split[\"train\"],\n",
    "    eval_dataset=train_test_split[\"test\"],\n",
    "    tokenizer=tokenizer,\n",
    "    callbacks=[EarlyStoppingCallback(early_stopping_patience=3)]  # patience à ajuster selon vos besoins\n",
    ")\n",
    "\n",
    "# Entraînement\n",
    "trainer.train()"
   ]
  },
  {
   "cell_type": "markdown",
   "id": "e6a80dff-7ab0-4fdb-8974-f6d8773fa24e",
   "metadata": {},
   "source": [
    "📉 training_loss = 0.0965\n",
    "→ La perte d'entraînement est faible, ce qui signifie que le modèle apprend bien les données d'entraînement"
   ]
  },
  {
   "cell_type": "markdown",
   "id": "d944bd6c-ba12-466f-a74f-7caa1bf39e50",
   "metadata": {},
   "source": [
    "**Prédiction et Évaluation du Modèle  📊**"
   ]
  },
  {
   "cell_type": "code",
   "execution_count": 113,
   "id": "be767d4c-0a20-4068-a37e-17e97a219de8",
   "metadata": {},
   "outputs": [
    {
     "data": {
      "text/html": [],
      "text/plain": [
       "<IPython.core.display.HTML object>"
      ]
     },
     "metadata": {},
     "output_type": "display_data"
    },
    {
     "name": "stdout",
     "output_type": "stream",
     "text": [
      "{'eval_loss': 0.06657730787992477, 'eval_runtime': 621.2371, 'eval_samples_per_second': 1.664, 'eval_steps_per_second': 0.209, 'epoch': 1.0}\n"
     ]
    }
   ],
   "source": [
    "# Évaluation\n",
    "eval_results = trainer.evaluate()\n",
    "print(eval_results)"
   ]
  },
  {
   "cell_type": "markdown",
   "id": "d25b4b8b-bb3a-4974-9e7d-54f74db59023",
   "metadata": {},
   "source": [
    "📉 eval_loss = 0.0665\n",
    "→ La perte sur les données de validation est aussi faible.\n",
    "Cela montre que le modèle généralise bien et ne surapprend pas (overfitting)."
   ]
  },
  {
   "cell_type": "code",
   "execution_count": 121,
   "id": "77c5a87e-0dae-46c6-9d98-72a6c0405075",
   "metadata": {},
   "outputs": [
    {
     "data": {
      "text/html": [],
      "text/plain": [
       "<IPython.core.display.HTML object>"
      ]
     },
     "metadata": {},
     "output_type": "display_data"
    },
    {
     "name": "stdout",
     "output_type": "stream",
     "text": [
      "              precision    recall  f1-score   support\n",
      "\n",
      "         Ham       0.99      1.00      0.99       895\n",
      "        Spam       0.98      0.93      0.95       139\n",
      "\n",
      "    accuracy                           0.99      1034\n",
      "   macro avg       0.98      0.96      0.97      1034\n",
      "weighted avg       0.99      0.99      0.99      1034\n",
      "\n"
     ]
    }
   ],
   "source": [
    "# Utilisez le trainer pour obtenir les prédictions sur le jeu de test\n",
    "predictions = trainer.predict(train_test_split[\"test\"])\n",
    "\n",
    "# Les prédictions sont sous forme de logits, on prend l'argmax pour obtenir les classes prédites\n",
    "y_pred = np.argmax(predictions.predictions, axis=1)\n",
    "\n",
    "# Les étiquettes réelles sont dans predictions.label_ids\n",
    "y_true = predictions.label_ids\n",
    "\n",
    "# Affichage du rapport de classification\n",
    "classification_report(y_true, y_pred, target_names=['Ham', 'Spam'])\n"
   ]
  },
  {
   "cell_type": "markdown",
   "id": "3ea62a4e-1486-448f-8caa-9d633c1c6df0",
   "metadata": {},
   "source": [
    " Notre modèle offre une précision exceptionnelle (99%) avec un excellent équilibre entre précision et rappel, faisant de lui notre meilleur modèle pour détecter les emails spam et ham !"
   ]
  }
 ],
 "metadata": {
  "kernelspec": {
   "display_name": "Python 3 (ipykernel)",
   "language": "python",
   "name": "python3"
  },
  "language_info": {
   "codemirror_mode": {
    "name": "ipython",
    "version": 3
   },
   "file_extension": ".py",
   "mimetype": "text/x-python",
   "name": "python",
   "nbconvert_exporter": "python",
   "pygments_lexer": "ipython3",
   "version": "3.12.4"
  }
 },
 "nbformat": 4,
 "nbformat_minor": 5
}
